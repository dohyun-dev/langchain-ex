{
 "cells": [
  {
   "metadata": {},
   "cell_type": "markdown",
   "source": "# 03. LangGraph를 활용한 Agent 구축",
   "id": "7221eb416ad37194"
  },
  {
   "cell_type": "code",
   "id": "initial_id",
   "metadata": {
    "collapsed": true,
    "ExecuteTime": {
     "end_time": "2025-01-06T06:48:38.247041Z",
     "start_time": "2025-01-06T06:48:38.239722Z"
    }
   },
   "source": [
    "from IPython.core.completer import TypedDict\n",
    "from dotenv import load_dotenv\n",
    "from langchain_openai import ChatOpenAI\n",
    "from langchain_teddynote import logging\n",
    "from sympy.physics.units import temperature\n",
    "\n",
    "load_dotenv()\n",
    "logging.langsmith(\"CH17-LangGraph\")"
   ],
   "outputs": [
    {
     "name": "stdout",
     "output_type": "stream",
     "text": [
      "LangSmith 추적을 시작합니다.\n",
      "[프로젝트명]\n",
      "CH17-LangGraph\n"
     ]
    }
   ],
   "execution_count": 18
  },
  {
   "metadata": {},
   "cell_type": "markdown",
   "source": "## 도구(Tool) 사용하기",
   "id": "ba647fa5aa53080"
  },
  {
   "metadata": {},
   "cell_type": "markdown",
   "source": [
    "### TavilySearchResults\n",
    "\n",
    "설명 - Tavily 검색 API를 쿼리하고 JSON 형식의 결과를 반환합니다. - 포괄적이고 정확하며 신뢰할 수 있는 결과에 최적화된 검색 엔진입니다.\n",
    "\n"
   ],
   "id": "89e4ff12e869a528"
  },
  {
   "metadata": {
    "ExecuteTime": {
     "end_time": "2025-01-06T06:48:44.292931Z",
     "start_time": "2025-01-06T06:48:38.247041Z"
    }
   },
   "cell_type": "code",
   "source": [
    "from langchain_teddynote.tools.tavily import TavilySearch\n",
    "\n",
    "# 검색 도구 생성\n",
    "tool = TavilySearch(max_results=3)\n",
    "\n",
    "# 도구 목록에 추가\n",
    "tools = [tool]\n",
    "\n",
    "tool.invoke(\"테드노트 랭체인 튜토리얼\")"
   ],
   "id": "eba240ed81929e85",
   "outputs": [
    {
     "data": {
      "text/plain": [
       "[{'title': ' - LangChain 한국어 튜토리얼 - WikiDocs',\n",
       "  'url': 'https://wikidocs.net/book/14314',\n",
       "  'content': ' - LangChain 한국어 튜토리얼🇰🇷 CH01 LangChain 시작하기 01. 설치 영상보고 따라하기 02. OpenAI API 키 발급 및 테스트 03. LangSmith 추적 설정 04. OpenAI API 사용(GPT-4o 멀티모달) 05.',\n",
       "  'score': 0.60274047,\n",
       "  'raw_content': '<랭체인LangChain 노트> - LangChain 한국어 튜토리얼🇰🇷 - WikiDocs\\n<랭체인LangChain 노트> - LangChain 한국어 튜토리얼🇰🇷 CH01 LangChain 시작하기 01. 설치 영상보고 따라하기 02. OpenAI API 키 발급 및 테스트 03. LangSmith 추적 설정 04. OpenAI API 사용(GPT-4o 멀티모달) 05. LangChain Expression Language(LCEL) 06. LCEL 인터페이스 07. Runnable CH02 프롬프트(Prompt) 01. 프롬프트(Prompt) 02. 퓨샷 프롬프트(FewShotPromptTemplate) 03. LangChain Hub 04. 개인화된 프롬프트(Hub에 업로드) CH03 출력 파서(Output Parsers) 01. Pydantic 출력 파서(PydanticOutputParser) 02. 콤마 구분자 출력 파서(CommaSeparatedListOutputParser) 03. 구조화된 출력 파서(StructuredOuputParser) 04. JSON 출력 파서(JsonOutputParser) 05. 데이터프레임 출력 파서(PandasDataFrameOutputParser) 06. 날짜 형식 출력 파서(DatetimeOutputParser) 07. 열거형 출력 파서(EnumOutputParser) 08. 출력 수정 파서(OutputFixingParser) CH04 모델(Model) 01. 다양한 LLM 모델 활용 02. 캐싱(Cache) 03. 모델 직렬화(Serialization) - 저장 및 불러오기 04. 토큰 사용량 확인 05. 구글 생성 AI(Google Generative AI) 06. 허깅페이스 엔드포인트(HuggingFace Endpoints) 07. 허깅페이스 로컬(HuggingFace Local) 08. 허깅페이스 파이프라인(HuggingFace Pipeline) 09. 올라마(Ollama) 10. GPT4ALL 11. 비디오(Video) 질의 응답 LLM (Gemini) CH05 메모리(Memory) 01. 대화 버퍼 메모리(ConversationBufferMemory) 02. 대화 버퍼 윈도우 메모리(ConversationBufferWindowMemory) 03. 대화 토큰 버퍼 메모리(ConversationTokenBufferMemory) 04. 대화 엔티티 메모리(ConversationEntityMemory) 05. 대화 지식그래프 메모리(ConversationKGMemory) 06. 대화 요약 메모리(ConversationSummaryMemory) 07. 벡터저장소 검색 메모리(VectorStoreRetrieverMemory) 08. LCEL Chain 에 메모리 추가 09. SQLite 에 대화내용 저장 10. RunnableWithMessageHistory에 ChatMessageHistory추가 CH06 문서 로더(Document Loader) 01. 도큐먼트(Document) 의 구조 02. PDF 03. 한글(HWP) 04. CSV 05. Excel 06. Word 07. PowerPoint 08. 웹 문서(WebBaseLoader) 09. 텍스트(TextLoader) 10. JSON 11. Arxiv 12. UpstageLayoutAnalysisLoader 13. LlamaParser CH07 텍스트 분할(Text Splitter) 01. 문자 텍스트 분할(CharacterTextSplitter) 02. 재귀적 문자 텍스트 분할(RecursiveCharacterTextSplitter) 03. 토큰 텍스트 분할(TokenTextSplitter) 04. 시멘틱 청커(SemanticChunker) 05. 코드 분할(Python, Markdown, JAVA, C++, C#, GO, JS, Latex 등) 06. 마크다운 헤더 텍스트 분할(MarkdownHeaderTextSplitter) 07. HTML 헤더 텍스트 분할(HTMLHeaderTextSplitter) 08. 재귀적 JSON 분할(RecursiveJsonSplitter) CH08 임베딩(Embedding) 01. OpenAIEmbeddings 02. 캐시 임베딩(CacheBackedEmbeddings) 03. 허깅페이스 임베딩(HuggingFace Embeddings) 04. UpstageEmbeddings 05. OllamaEmbeddings 06. GPT4ALL 임베딩 07. Llama CPP 임베딩 CH09 벡터저장소(VectorStore) 01. Chroma 02. FAISS 03. Pinecone CH10 검색기(Retriever) 01. 벡터스토어 기반 검색기(VectorStore-backed Retriever) 02. 문맥 압축 검색기(ContextualCompressionRetriever) 03. 앙상블 검색기(EnsembleRetriever) 04. 긴 문맥 재정렬(LongContextReorder) 05. 상위 문서 검색기(ParentDocumentRetriever) 06. 다중 쿼리 검색기(MultiQueryRetriever) 07. 다중 벡터저장소 검색기(MultiVectorRetriever) 08. 셀프 쿼리 검색기(SelfQueryRetriever) 09. 시간 가중 벡터저장소 검색기(TimeWeightedVectorStoreRetriever) 10. 한글 형태소 분석기(Kiwi, Kkma, Okt) + BM25 검색기 11. Convex Combination(CC) 적용된 앙상블 검색기(EnsembleRetriever) CH11 리랭커(Reranker) 01. Cross Encoder Reranker 02. Cohere Reranker 03. Jina Reranker 04. FlashRank Reranker CH12 Retrieval Augmented Generation(RAG) 01. PDF 문서 기반 QA(Question-Answer) 02. 네이버 뉴스기사 QA(Question-Answer) 03. RAG 의 기능별 다양한 모듈 활용기 04. RAPTOR: 긴 문맥 요약(Long Context Summary) 05. 대화내용을 기억하는 RAG 체인 CH13 LangChain Expression Language(LCEL) 01. RunnablePassthrough 02. Runnable 구조(그래프) 검토 03. RunnableLambda 04. LLM 체인 라우팅(RunnableLambda, RunnableBranch) 05. RunnableParallel 06. 동적 속성 지정(configurable_fields, configurable_alternatives) 07. @chain 데코레이터로 Runnable 구성 08. RunnableWithMessageHistory 09. 사용자 정의 제네레이터(generator) 10. Runtime Arguments 바인딩 11. 폴백(fallback) 모델 지정 CH14 체인(Chains) 01. 문서 요약 02. SQL 03. 구조화된 출력 체인(with_structered_output) CH15 평가(Evaluations) 01. 합성 테스트 데이터셋 생성(RAGAS) 02. RAGAS 를 활용한 평가 03. 생성한 평가용 데이터셋 업로드(HuggingFace Dataset) 04. LangSmith 데이터셋 생성 05. LLM-as-Judge 06. 임베딩 기반 평가(embedding_distance) 07. 사용자 정의(Custom) LLM 평가 08. Rouge, BLEU, METEOR, SemScore 기반 휴리스틱 평가 09. 실험(Experiment) 평가 비교 10. 요약(Summary) 방식의 평가 11. Groundedness(할루시네이션) 평가 12. 실험 비교(Pairwise Evaluation) 13. 반복 평가 14. 온라인 평가를 활용한 평가 자동화 CH16 에이전트(Agent) 01. 도구(Tools) 02. 도구 바인딩(Binding Tools) 03. 에이전트(Agent) 04. Claude, Gemini, Ollama, Together.ai 를 활용한 Agent 05. Iteration 기능과 사람 개입(Human-in-the-loop) 06. Agentic RAG 07. CSVExcel 데이터 분석 Agent 08. Toolkits 활용 Agent 09. RAG + Image Generator Agent(보고서 작성) 10. 도구를 활용한 토론 에이전트(Two Agent Debates with Tools) CH17 LangGraph 01. 핵심 기능 01. LangGraph 에 자주 등장하는 Python 문법이해 02. LangGraph를 활용한 챗봇 구축 03. LangGraph를 활용한 Agent 구축 04. Agent 에 메모리(memory) 추가 05. 노드의 단계별 스트리밍 출력 06. Human-in-the-loop(사람의 개입) 07. 중간단계 개입 되돌림을 통한 상태 수정과 Replay 08. 사람(Human)에게 물어보는 노드 추가 09. 메시지 삭제(RemoveMessage) 10. ToolNode 를 사용하여 도구를 호출하는 방법 11. 병렬 노드 실행을 위한 분기 생성 방법 12. 대화 기록 요약을 추가하는 방법 13. 서브그래프 추가 및 사용 방법 14. 서브그래프의 입력과 출력을 변환하는 방법 15. LangGraph 스트리밍 모드의 모든 것 02. 구조 설계 01. 기본 그래프 생성 02. Naive RAG 03. 관련성 체커(Relevance Checker) 모듈 추가 04. 웹 검색 모듈 추가 05. 쿼리 재작성 모듈 추가 06. Agentic RAG 07. Adaptive RAG 03. Use Cases 01. 에이전트 대화 시뮬레이션 (고객 응대 시나리오) 02. 사용자 요구사항 기반 메타 프롬프트 생성 에이전트 03. CRAG(Corrective RAG) 04. Self-RAG 05. 계획 후 실행(Plan-and-Execute) 06. 멀티 에이전트 협업 네트워크(Multi-Agent Collaboration Network) 07. 멀티 에이전트 감독자(Multi-Agent Supervisor) 08. 계층적 멀티 에이전트 팀(Hierarchical Multi-Agent Teams) 09. SQL 데이터베이스와 상호작용하는 에이전트 10. STORM 개념을 도입한 연구를 위한 멀티 에이전트 CH18 기타 정보 01. StreamEvent 타입별 정리\\nPublished with WikiDocs\\n\\n\\n<랭체인LangChain 노트> - Lang…\\n\\n\\nWikiDocs\\n\\n\\n<랭체인LangChain 노트> - LangChain 한국어 튜토리얼🇰🇷\\n\\nAuthor: 테디노트\\nLast edited by : Dec. 23, 2024, 3:48 a.m.\\nCopyright : \\n2,392 Like; \"추천\")\\n추천은 공유할 수 있는 무료 전자책을 집필하는데 정말 큰 힘이 됩니다. \"추천\" 한 번씩만 부탁 드리겠습니다🙏🙏\\n✅ 랭체인 한국어 튜토리얼 강의\\n패스트캠퍼스 - RAG 비법노트\\n✅ 랭체인 한국어 튜토리얼 코드저장소(GitHub) 📘🖥️\\nhttps://github.com/teddylee777/langchain-kr\\n✅ 유튜브 \"테디노트\" 🎥📚\\nhttps://www.youtube.com/c/@teddynote\\n✅ 데이터 분석 블로그 https://teddylee777.github.io\\n✅ 문의 teddylee777@gmail.com\\nLICENSE\\n인용 및 출처 표기\\n\\n본 저작물을 블로그, 유튜브 등 온라인 매체에 인용하여 게재할 경우, Creative Commons Attribution-NonCommercial-NoDerivs 2.0 Korea 라이선스에 따라 반드시 출처를 명시해야 합니다.\\n\\n상업적 사용에 대한 사전 협의\\n\\n본 저작물(Wikidocs 및 관련 실습 코드 포함)을 강의, 강연 등 상업적 목적으로 활용하고자 하는 경우, 저작권자와의 사전 서면 협의가 필수적으로 요구됩니다. 해당 협의는 teddylee777@gmail.com으로 문의하여 진행하실 수 있습니다.\\n\\n본 저작물은 2024년 테디노트에 의해 작성되었습니다. \\n모든 권리는 저작권자에게 있으며, 본 저작물은 Creative Commons Attribution-NonCommercial-NoDerivs 2.0 Korea 라이선스에 따라 배포됩니다.\\n본 저작물의 무단 전재 및 재배포를 금지하며, 전체 혹은 일부를 인용할 경우 출처를 명확히 밝혀주시기 바랍니다.\\n본 문서는 다른 문서의 내용을 참고하여 작성되었을 수 있습니다. 참고 자료는 본 문서 하단의 출처 목록에서 확인하실 수 있습니다.\\nCopyright (c) 테디노트.\\nReference\\n\\nLangChain Github\\nLangGraph Github\\nLangChain Document\\n\\nRecent Comments (6) Recent Modifications (10) RSS\\nCH01 LangChain 시작하기 - NamHyeon, Dec. 8, 2024, 1:17 p.m.\\n좋은 자료를 무료로 공유해 주셔서, 감사한 마음에 \\'테디노트의 RAG 비법노트\\' 강의 등록했습니다 ! 물론 제 현업에 필요한 기술이라서, 강의 또한 기쁜 마음에 신청했구요 ~ 정주행 해서, 창공을 날아가 보겠습니다 ^^\\n06. Word - Paul, Oct. 27, 2024, 5:38 p.m.\\npython-docx도 설치해야 할까요?\\n10. JSON - Paul, Oct. 27, 2024, 5:37 p.m.\\n!pip install jq 부분이 들어가야 할 것 같습니다.\\n02. PDF - Paul, Oct. 27, 2024, 3:29 p.m.\\n<html><head> <meta http-equiv=\"Content-Type\" content=\"text/html\"> </head><body> <span style=\"position:absolute; border: gray 1px solid; left:0px; top:50px; width:612px; height:858px;\"></span> <div style=\"position:absolute; top:50px;\"><a name=\"1\">Page 1</a></div> <div style=\"position:absolute; border 이 부분이 출력 결과가 아니라 코드인 것처럼 표시되어 있네요~\\n12. UpstageLayoutAnalysisLoader - Paul, Oct. 27, 2024, 10:59 a.m.\\n감사히 잘 참고하고 있습니다. 아주 사소한 오기이지만... 11번 Arxiv 다음에 12번이 와야 할 텐데, 원래 넣으시려던 다른 목차가 빠진 것인지 바로 13번이 나왔네요^^\\n03. 모델 직렬화(Serialization) - 저장 및 불러오기 - 동구, Sept. 20, 2024, 12:58 p.m.\\nloads는 뭐에요?\\n04. Self-RAG - Dec. 23, 2024, 3:48 a.m.\\n<style> .custom { background-color: #008d8d; color: white; padding: 0.25em 0.5e…\\n05. 코드 분할(Python, Markdown, JAVA, C++, C#, GO, JS, Latex 등) - Dec. 23, 2024, 3:16 a.m.\\n<style> .custom { background-color: #008d8d; color: white; padding: 0.25em 0.5e…\\n10. STORM 개념을 도입한 연구를 위한 멀티 에이전트 - Dec. 23, 2024, 3:16 a.m.\\n<style> .custom { background-color: #008d8d; color: white; padding: 0.25em 0.5e…\\n03. CRAG(Corrective RAG) - Dec. 23, 2024, 3:04 a.m.\\n<style> .custom { background-color: #008d8d; color: white; padding: 0.25em 0.5e…\\n05. 계획 후 실행(Plan-and-Execute) - Dec. 23, 2024, 3:04 a.m.\\n<style> .custom { background-color: #008d8d; color: white; padding: 0.25em 0.5e…\\n07. 멀티 에이전트 감독자(Multi-Agent Supervisor) - Dec. 23, 2024, 3:04 a.m.\\n<style> .custom { background-color: #008d8d; color: white; padding: 0.25em 0.5e…\\n08. 계층적 멀티 에이전트 팀(Hierarchical Multi-Agent Teams) - Dec. 23, 2024, 3:04 a.m.\\n<style> .custom { background-color: #008d8d; color: white; padding: 0.25em 0.5e…\\n09. SQL 데이터베이스와 상호작용하는 에이전트 - Dec. 23, 2024, 3:04 a.m.\\n<style> .custom { background-color: #008d8d; color: white; padding: 0.25em 0.5e…\\n02. 사용자 요구사항 기반 메타 프롬프트 생성 에이전트 - Dec. 23, 2024, 2:45 a.m.\\n<style> .custom { background-color: #008d8d; color: white; padding: 0.25em 0.5e…\\n03. 토큰 텍스트 분할(TokenTextSplitter) - Dec. 23, 2024, 2:31 a.m.\\n<style> .custom { background-color: #008d8d; color: white; padding: 0.25em 0.5e…\\n\\nNext : CH01 LangChain 시작하기\\n\\n\\n×\\n책갈피\\n추가 닫기\\n\\n×\\nLeave feedback on this page\\nEmail address to reply to\\nWhat you want to say\\n※ Feedback is delivered to the author by email.\\nClose Send'},\n",
       " {'title': '랭체인(langchain) + 챗(chat) - ConversationChain, 템플릿 사용법 (3) - 테디노트',\n",
       "  'url': 'https://teddylee777.github.io/langchain/langchain-tutorial-03/',\n",
       "  'content': '🔥알림🔥 ① 테디노트 유튜브 - 구경하러 가기! ② LangChain 한국어 튜토리얼 바로가기 👀 ③ 랭체인 노트 무료 전자책(wikidocs) 바로가기 🙌 ④ RAG 비법노트 LangChain 강의오픈 바로가기 🙌 ⑤ 서울대 PyTorch 딥러닝 강의 바로가기 🙌. 랭체인(langchain) + 챗(chat) - ConversationChain, 템플릿 사용법 (3)',\n",
       "  'score': 0.5923135,\n",
       "  'raw_content': '🔥알림🔥\\n① 테디노트 유튜브 -\\n구경하러 가기!\\n② LangChain 한국어 튜토리얼\\n바로가기 👀\\n③ 랭체인 노트 무료 전자책(wikidocs)\\n바로가기 🙌\\n④ RAG 비법노트 LangChain 강의오픈\\n바로가기 🙌\\n⑤ 서울대 PyTorch 딥러닝 강의\\n바로가기 🙌\\n랭체인(langchain) + 챗(chat) - ConversationChain, 템플릿 사용법 (3)\\n2023년 09월 30일\\n20 분 소요\\n이번 포스팅에서는 랭체인(LangChain) 을 활용하여 챗(Chat) 기능 구현을 하는 방법에 대해 알아보겠습니다.\\n랭체인은 쉽게 대화 흐름(conversation context) 기반 챗 기능구현을 손쉽게 할 수 있는 방법을 제공합니다.\\n(이전글) LangChain 튜토리얼\\n🌱 LangChaing + Chat 구성\\n채팅 모델(Chat Model): LLM을 활용한 대화 흐름(conversation) 을 생성할 수 있습니다.\\n프롬프트 템플릿(Prompt Template): 프롬프트 템플릿은 기본 메시지, 사용자 입력, 채팅 기록, 문맥(context) 를 결합하여 프롬프트를 쉽게 구성할 수 있게 돕습니다.\\n메모리(Memory): 대화 흐름에서 대화의 내용을 기록하는 용도입니다.\\n리트리버(Retriever): 문서의 로드 및 검색을 할 때 활용할 수 있습니다.\\n🌱 환경설정\\n라이브러리 설치\\nOPENAI API KEY 를 설정합니다.\\n🔥 챗봇 생성\\n메시지 구성요소\\nSystemMessage: AI 에게 상황을 지정하거나 역할 부여\\nHumanMessage: 사용자 입력 메시기\\nAIMessage: AI 답변 메시지\\n같은 질문이라 하더라도, SystemMessage 에 다른 역할을 부여하면 그에 걸맞는 답변을 얻습니다.\\n🔥 ConversationChain\\n이전의 채팅 모델을 ConversationChain 으로 감쌀 수 있습니다.\\nConversationChain 는 한마디로 (Chat Model + Memory) 이라 정의할 수 있습니다.\\n이전의 Chat Model 은 대화내용을 저장 혹은 기록하는 작업은 직접해야 합니다. 하지만 ConversationChain 을 활용하면, 자동으로 Memory 에 대화내용을 저장합니다.\\n즉, ConversationChain 자체가 내장 메모리 를 가지고 있습니다. 따라서, 이전의 대화내용을 기록하는 메모리에 대한 별도 작업을 생략할 수 있습니다.\\n2차 질의를 하면, 이전 대화내용을 바탕으로 답변을 얻습니다.\\n① 템플릿으로 양식 정의\\n② 대화내용 초기화\\nSystemMessage 는 메모리 초기화 후에도 여전히 적용됩니다.\\n따라서, 번역을 수행한 결과가 반환됩니다.\\n③ 대화내용 요약 메모리\\nConversationSummaryBufferMemory 는최근의 대화 내용을 메모리에 저장합니다.\\n다만, 대화가 길어질 경우 이전 대화내용을 모두 포함할 수 없습니다. 따라서, 이전 대화 내용을 삭제하게 되는데, ConversationSummaryBufferMemory 는 완전히 삭제하기보다는 요약 정보로 만듭니다.\\n이전 대화내용에 대한 요약이 발동하는 시점은 대화의 interaction 횟수가 초과된 경우 혹은 토큰 길이가 초과된 경우를 기준으로 동작합니다.\\n태그:\\nChatGPT,\\nChatOpenAI,\\nConversationBufferMemory,\\nConversationChain,\\nConversationSummaryBufferMemory,\\nGPT3.5,\\nGPT4,\\nlangchain,\\nlangchain tutorial,\\nOpenAI,\\nPromptTemplate,\\n랭체인,\\n랭체인 튜토리얼\\n카테고리:\\nlangchain\\n업데이트: 2023년 09월 30일\\n참고\\npoetry 의 거의 모든것 (튜토리얼)\\n2024년 03월 30일\\n5 분 소요\\nPython 개발에 있어서 poetry는 매우 강력한 도구로, 프로젝트의 의존성 관리와 패키지 배포를 간소화하는 데 큰 도움을 줍니다. 지금부터 poetry 활용 튜토리얼을 살펴 보겠습니다.\\nLangGraph Retrieval Agent를 활용한 동적 문서 검색 및 처리\\n2024년 03월 06일\\n10 분 소요\\nLangGraph Retrieval Agent는 언어 처리, AI 모델 통합, 데이터베이스 관리, 그래프 기반 데이터 처리 등 다양한 기능을 제공하여 언어 기반 AI 애플리케이션 개발에 필수적인 도구입니다.\\n[Assistants API] Code Interpreter, Retrieval, Functions 활용법\\n2024년 02월 13일\\n35 분 소요\\nOpenAI의 새로운 Assistants API는 대화와 더불어 강력한 도구 접근성을 제공합니다. 본 튜토리얼은 OpenAI Assistants API를 활용하는 내용을 다룹니다. 특히, Assistant API 가 제공하는 도구인 Code Interpreter, Retrieval...\\n[LangChain] 에이전트(Agent)와 도구(tools)를 활용한 지능형 검색 시스템 구축 가이드\\n2024년 02월 09일\\n41 분 소요\\n이 글에서는 LangChain 의 Agent 프레임워크를 활용하여 복잡한 검색과 데이터 처리 작업을 수행하는 방법을 소개합니다. LangSmith 를 사용하여 Agent의 추론 단계를 추적합니다. Agent가 활용할 검색 도구(Tavily Search), PDF 기반 검색 리트리버...'},\n",
       " {'title': '랭체인 (langchain)의 OpenAI GPT 모델 (ChatOpenAI) 사용법 (1) - 테디노트',\n",
       "  'url': 'https://teddylee777.github.io/langchain/langchain-tutorial-01/',\n",
       "  'content': '태그:\\nChatGPT,\\nChatOpenAI,\\nGPT3.5,\\nGPT4,\\nlangchain,\\nlangchain tutorial,\\nOpenAI,\\n랭체인,\\n랭체인 튜토리얼\\n카테고리:\\nlangchain\\n업데이트: 2023년 09월 28일\\n참고\\n[Assistants API] Code Interpreter, Retrieval, Functions 활용법\\n2024년 02월 13일\\n35 분 소요\\nOpenAI의 temperature\\nmax_tokens\\nmodel_name: 적용 가능한 모델 리스트\\ngpt-3.5-turbo\\ngpt-3.5-turbo-0301\\ngpt-3.5-turbo-0613\\ngpt-3.5-turbo-16k\\ngpt-3.5-turbo-16k-0613\\ngpt-3.5-turbo-instruct\\ngpt-3.5-turbo-instruct-0914\\ngpt-4\\ngpt-4-0314\\ngpt-4-0613\\n🔥 프롬프트 템플릿의 활용\\nPromptTemplate\\n사용자의 입력 변수를 사용하여 완전한 프롬프트 문자열을 만드는 LangChain 한국어 튜토리얼\\n바로가기 👀\\n랭체인(langchain)의 OpenAI GPT 모델(ChatOpenAI) 사용법 (1)\\n2023년 09월 28일\\n5 분 소요\\n언어 모델을 활용한 애플리케이션 개발을 돕는 프레임워크인 랭체인(LangChain) 에 대해 깊이 있게 다뤄보고자 합니다.\\n ① run()\\nrun() 함수로 템플릿 프롬프트 실행\\n② apply()\\napply() 함수로 여러개의 입력을 한 번에 실행\\ntext 키 값으로 결과 뭉치가 반환되었음을 확인할 수 있습니다.\\n LLMChain 객체\\nLLMChain\\nLLMChain은 특정 PromptTemplate와 연결된 체인 객체를 생성합니다\\n사용법\\nprompt: 앞서 정의한 PromptTemplate 객체를 사용합니다.\\n',\n",
       "  'score': 0.58721006,\n",
       "  'raw_content': '🔥알림🔥\\n① 테디노트 유튜브 -\\n구경하러 가기!\\n② LangChain 한국어 튜토리얼\\n바로가기 👀\\n랭체인(langchain)의 OpenAI GPT 모델(ChatOpenAI) 사용법 (1)\\n2023년 09월 28일\\n5 분 소요\\n언어 모델을 활용한 애플리케이션 개발을 돕는 프레임워크인 랭체인(LangChain) 에 대해 깊이 있게 다뤄보고자 합니다.\\n튜토리얼은 시리즈 형식으로 구성되어, 시리즈를 거듭하면서 랭체인(LangChain) 을 통해 언어 모델 기반의 애플리케이션 개발은 더욱 간결하고 효과적으로 이루어질 수 있습니다.\\n🌱 랭체인의 주요 기능\\n랭체인을 통해 다음과 같은 특징을 갖는 애플리케이션을 개발할 수 있습니다.\\n랭체인의 가치\\n랭체인의 핵심적인 가치는 여러 가지가 있지만, 그 중에서도 두 가지 주요한 점을 꼽자면 다음과 같습니다.\\n특히, 이러한 사용 준비된 체인은 초보자도 랭체인을 쉽게 시작할 수 있게 도와주며, 복잡한 애플리케이션을 계획하는 전문가들은 기존 체인을 손쉽게 커스터마이징하거나 새롭게 구축할 수 있게 도와줍니다.\\n🌱 환경설정\\nAPI KEY 발급\\n먼저, openai 의 API KEY 를 발급 받아야 합니다. 발급은 다음의 절차를 통해 진행할 수 있습니다.\\nhttps://platform.openai.com/account/api-keys 로 접속합니다.\\nLog in 버튼을 클릭 후 계정에 로그인 합니다. 계정이 아직 생성되지 않은 경우에는 Sign up 으로 회원가입 후 로그인 합니다.\\n“Create new secret key” 버튼을 클릭하여 새로운 키를 발급합니다.\\nName 에는 발급하는 키에 대한 별칭을 입력합니다.\\n새롭게 발급한 키를 복사합니다. 잃어버리면 다시 발급하여야 하므로, 안전한 곳에 저장해 둡니다.\\n모듈 설치(openai, langchain)\\npip 명령어로 모듈을 설치 합니다. 아나콘다 가상환경에서 설치해도 좋습니다.\\n먼저, 설치한 openai 모듈을 import 한 뒤, 발급받은 API KEY를 다음과 같이 설정합니다.\\n사용 가능한 모델 리스트 출력\\n🔥 ChatOpenAI\\nOpenAI 사의 채팅 전용 Large Language Model(llm) 입니다.\\n객체를 생성할 때 다음을 옵션 값을 지정할 수 있습니다. 옵션에 대한 상세 설명은 다음과 같습니다.\\ntemperature\\nmax_tokens\\nmodel_name: 적용 가능한 모델 리스트\\ngpt-3.5-turbo\\ngpt-3.5-turbo-0301\\ngpt-3.5-turbo-0613\\ngpt-3.5-turbo-16k\\ngpt-3.5-turbo-16k-0613\\ngpt-3.5-turbo-instruct\\ngpt-3.5-turbo-instruct-0914\\ngpt-4\\ngpt-4-0314\\ngpt-4-0613\\n🔥 프롬프트 템플릿의 활용\\nPromptTemplate\\n사용자의 입력 변수를 사용하여 완전한 프롬프트 문자열을 만드는 데 사용되는 템플릿입니다\\n사용법\\ntemplate: 템플릿 문자열입니다. 이 문자열 내에서 중괄호 {}는 변수를 나타냅니다.\\ninput_variables: 중괄호 안에 들어갈 변수의 이름을 리스트로 정의합니다.\\ninput_variables\\ninput_variables는 PromptTemplate에서 사용되는 변수의 이름을 정의하는 리스트입니다.\\n사용법: 리스트 형식으로 변수 이름을 정의합니다.\\nLLMChain 객체\\nLLMChain\\nLLMChain은 특정 PromptTemplate와 연결된 체인 객체를 생성합니다\\n사용법\\nprompt: 앞서 정의한 PromptTemplate 객체를 사용합니다.\\nllm: 언어 모델을 나타내며, 이 예시에서는 이미 어딘가에서 정의된 것으로 보입니다.\\n① run()\\nrun() 함수로 템플릿 프롬프트 실행\\n② apply()\\napply() 함수로 여러개의 입력을 한 번에 실행\\ntext 키 값으로 결과 뭉치가 반환되었음을 확인할 수 있습니다.\\n이를 반복문으로 출력한다면 다음과 같습니다.\\n③ generate()\\ngenerate() 는 문자열 대신에 LLMResult를 반환하는 점을 제외하고는 apply와 유사합니다.\\nLLMResult는 토큰 사용량과 종료 이유와 같은 유용한 생성 정보를 자주 포함하고 있습니다.\\n④ 2개 이상의 변수를 템플릿 안에 정의\\n2개 이상의 변수를 적용하여 템플릿을 생성할 수 있습니다.\\n이번에는 2개 이상의 변수(input_variables) 를 활용하여 템플릿 구성을 해보겠습니다.\\n⑤ 스트리밍(streaming)\\n스트리밍 옵션은 질의에 대한 답변을 실시간으로 받을 때 유용합니다.\\n다음과 같이 streaming=True 로 설정하고 스트리밍으로 답변을 받기 위한 StreamingStdOutCallbackHandler() 을 콜백으로 지정합니다.\\n태그:\\nChatGPT,\\nChatOpenAI,\\nGPT3.5,\\nGPT4,\\nlangchain,\\nlangchain tutorial,\\nOpenAI,\\n랭체인,\\n랭체인 튜토리얼\\n카테고리:\\nlangchain\\n업데이트: 2023년 09월 28일\\n참고\\n[Assistants API] Code Interpreter, Retrieval, Functions 활용법\\n2024년 02월 13일\\n35 분 소요\\nOpenAI의 새로운 Assistants API는 대화와 더불어 강력한 도구 접근성을 제공합니다. 본 튜토리얼은 OpenAI Assistants API를 활용하는 내용을 다룹니다. 특히, Assistant API 가 제공하는 도구인 Code Interpreter, Retrieval...\\n[LangChain] 에이전트(Agent)와 도구(tools)를 활용한 지능형 검색 시스템 구축 가이드\\n2024년 02월 09일\\n41 분 소요\\n이 글에서는 LangChain 의 Agent 프레임워크를 활용하여 복잡한 검색과 데이터 처리 작업을 수행하는 방법을 소개합니다. LangSmith 를 사용하여 Agent의 추론 단계를 추적합니다. Agent가 활용할 검색 도구(Tavily Search), PDF 기반 검색 리트리버...\\nLangChain RAG 파헤치기: 문서 기반 QA 시스템 설계 방법 - 심화편\\n2024년 02월 06일\\n23 분 소요\\nLangChain의 RAG 시스템을 통해 문서(PDF, txt, 웹페이지 등)에 대한 질문-답변을 찾는 과정을 정리하였습니다.\\nLangChain으로 네이버 뉴스 기반 Q&A 애플리케이션 구축하기 - 기본편\\n2024년 02월 06일\\n7 분 소요\\nLangChain을 활용하여 간단하게 네이버 뉴스기사를 바탕으로 Q&A 애플리케이션을 만드는 방법을 다룹니다.'}]"
      ]
     },
     "execution_count": 19,
     "metadata": {},
     "output_type": "execute_result"
    }
   ],
   "execution_count": 19
  },
  {
   "metadata": {
    "ExecuteTime": {
     "end_time": "2025-01-06T06:48:44.845155Z",
     "start_time": "2025-01-06T06:48:44.303190Z"
    }
   },
   "cell_type": "code",
   "source": [
    "from typing import Annotated\n",
    "from typing_extensions import TypedDict\n",
    "from langgraph.graph.message import add_messages\n",
    "from langchain_openai import ChatOpenAI\n",
    "from langgraph.graph import StateGraph\n",
    "\n",
    "# LLM 초기화\n",
    "llm = ChatOpenAI(model=\"gpt-4o-mini\")\n",
    "\n",
    "# LLM 에 도구 바인딩\n",
    "llm_with_tools = llm.bind_tools(tools)\n",
    "\n",
    "# State 정의\n",
    "class State(TypedDict):\n",
    "    messages: Annotated[list, add_messages]\n",
    "    \n",
    "# 노드 함수 정의\n",
    "def chatbot(state: State):\n",
    "    answer = llm_with_tools.invoke(state[\"messages\"])\n",
    "    # 메시지 목록 반환\n",
    "    return {\"messages\": [answer]}\n",
    "\n",
    "# 상태 그래프 초기화\n",
    "graph_builder = StateGraph(State)\n",
    "\n",
    "# 노드 추가\n",
    "graph_builder.add_node(\"chatbot\", chatbot)\n"
   ],
   "id": "519aabd691aaffc5",
   "outputs": [
    {
     "data": {
      "text/plain": [
       "<langgraph.graph.state.StateGraph at 0x149f4ee31d0>"
      ]
     },
     "execution_count": 20,
     "metadata": {},
     "output_type": "execute_result"
    }
   ],
   "execution_count": 20
  },
  {
   "metadata": {},
   "cell_type": "markdown",
   "source": [
    "### 도구 노드(Tool Node)\n",
    "\n",
    "도구가 호출될 경우 실제로 실행할 수 있는 함수를 만들어야 함\n",
    "\n",
    "가장 최근의 메시지를 확인하고 메시지에 tool_calls가 포함되어 있으면 도구를 호출하는 BasicToolNode를 구현합니다.\n",
    "\n",
    "지금은 직접 구현하지만, 나중에는 LangGraph의 pre-built 되어있는 ToolNode 로 대체할 수 있습니다"
   ],
   "id": "c82c782a47ac34ce"
  },
  {
   "metadata": {
    "ExecuteTime": {
     "end_time": "2025-01-06T06:48:44.864482Z",
     "start_time": "2025-01-06T06:48:44.858239Z"
    }
   },
   "cell_type": "code",
   "source": [
    "import json\n",
    "from langchain_core.messages import ToolMessage\n",
    "\n",
    "\n",
    "class BasicToolNode:\n",
    "    def __init__(self, tools: list) -> None:\n",
    "        self.tools_list = {tool.name: tool for tool in tools}\n",
    "\n",
    "    def __call__(self, inputs: dict):\n",
    "        if messages := inputs.get(\"messages\", []):\n",
    "            message = messages[-1]\n",
    "        else:\n",
    "            raise ValueError(\"No message found in input\")\n",
    "\n",
    "        outputs = []\n",
    "        for tool_call in message.tool_calls:\n",
    "            tool_result = self.tools_list[tool_call[\"name\"]].invoke(tool_call[\"args\"])\n",
    "            outputs.append(\n",
    "                ToolMessage(\n",
    "                    content=json.dumps(\n",
    "                        tool_result, ensure_ascii=False\n",
    "                    ),\n",
    "                    name=tool_call[\"name\"],\n",
    "                    tool_call_id=tool_call[\"id\"],\n",
    "                )\n",
    "            )\n",
    "        return {\"messages\": outputs}\n",
    "\n",
    "\n",
    "# 도구 노드 생성\n",
    "tool_node = BasicToolNode(tools=[tool])\n",
    "\n",
    "# 그래프에 도구 노드 추가\n",
    "graph_builder.add_node(\"tools\", tool_node)"
   ],
   "id": "deb39e14ddd22cea",
   "outputs": [
    {
     "data": {
      "text/plain": [
       "<langgraph.graph.state.StateGraph at 0x149f4ee31d0>"
      ]
     },
     "execution_count": 21,
     "metadata": {},
     "output_type": "execute_result"
    }
   ],
   "execution_count": 21
  },
  {
   "metadata": {},
   "cell_type": "markdown",
   "source": [
    "### 조건부 엣지\n",
    "도구 노드가 추가되면 conditional_edges를 정의할 수 있습니다.\n",
    "\n",
    "Edges는 한 노드에서 다음 노드로 제어 흐름을 라우팅합니다.\n",
    "\n",
    "Conditional edges는 일반적으로 \"if\" 문을 포함하여 현재 그래프 상태에 따라 다른 노드로 라우팅합니다. 이러한 함수는 현재 그래프 state를 받아 다음에 호출할 Node 를 나타내는 문자열 또는 문자열 목록 을 반환합니다.\n",
    "\n",
    "아래에서는 route_tools라는 라우터 함수를 정의하여 챗봇의 출력에서 tool_calls를 확인합니다.\n",
    "\n",
    "이 함수를 add_conditional_edges를 호출하여 그래프에 제공하면, chatbot 노드가 완료될 때마다 이 함수를 확인하여 다음으로 어디로 갈지 결정합니다.\n",
    "\n",
    "조건은 도구 호출이 있으면 tools로, 없으면 END로 라우팅됩니다.\n",
    "\n",
    "**참고**\n",
    "\n",
    "- langgraph 에 pre-built 되어 있는 tools_condition 으로 대체할 수 있습니다."
   ],
   "id": "c883b465343cb46f"
  },
  {
   "metadata": {
    "ExecuteTime": {
     "end_time": "2025-01-06T06:48:45.070854Z",
     "start_time": "2025-01-06T06:48:44.879963Z"
    }
   },
   "cell_type": "code",
   "source": [
    "from langchain_teddynote.graphs import visualize_graph\n",
    "from langgraph.constants import END, START\n",
    "\n",
    "\n",
    "def route_tools(\n",
    "    state: State,\n",
    "):\n",
    "    if messages := state.get(\"messages\", []):\n",
    "        # 가장 최근 AI 메시지 추출\n",
    "        ai_message = messages[-1]\n",
    "    else:\n",
    "        # 입력 상태에 메시지가 없는 경우 예외 발생\n",
    "        raise ValueError(f\"No messages found in input state to tool_edge: {state}\")\n",
    "\n",
    "    # AI 메시지에 도구 호출이 있는 경우 \"tools\" 반환\n",
    "    if hasattr(ai_message, \"tool_calls\") and len(ai_message.tool_calls) > 0:\n",
    "        # 도구 호출이 있는 경우 \"tools\" 반환\n",
    "        return \"tools\"\n",
    "    # 도구 호출이 없는 경우 \"END\" 반환\n",
    "    return END\n",
    "\n",
    "# `tools_condition` 함수는 챗봇이 도구 사용을 요청하면 \"tools\"를 반환하고, 직접 응답이 가능한 경우 \"END\"를 반환\n",
    "graph_builder.add_conditional_edges(\n",
    "    source=\"chatbot\",\n",
    "    path=route_tools,\n",
    "    # route_tools 의 반환값이 \"tools\" 인 경우 \"tools\" 노드로, 그렇지 않으면 END 노드로 라우팅\n",
    "    path_map={\"tools\": \"tools\", END: END},\n",
    ")\n",
    "\n",
    "# tools > chatbot\n",
    "graph_builder.add_edge(\"tools\", \"chatbot\")\n",
    "\n",
    "# START > chatbot\n",
    "graph_builder.add_edge(START, \"chatbot\")\n",
    "\n",
    "# 그래프 컴파일\n",
    "graph = graph_builder.compile()"
   ],
   "id": "4247e97d4e886c95",
   "outputs": [
    {
     "data": {
      "image/png": "[encoded data removed]",
      "text/plain": [
       "<IPython.core.display.Image object>"
      ]
     },
     "metadata": {},
     "output_type": "display_data"
    }
   ],
   "execution_count": 22
  },
  {
   "metadata": {
    "ExecuteTime": {
     "end_time": "2025-01-06T06:48:48.902975Z",
     "start_time": "2025-01-06T06:48:48.765501Z"
    }
   },
   "cell_type": "code",
   "source": [
    "# 그래프 시각화\n",
    "visualize_graph(graph)"
   ],
   "id": "a97ae33f1ee5f361",
   "outputs": [
    {
     "data": {
      "image/png": "[encoded data removed]",
      "text/plain": [
       "<IPython.core.display.Image object>"
      ]
     },
     "metadata": {},
     "output_type": "display_data"
    }
   ],
   "execution_count": 23
  },
  {
   "metadata": {
    "ExecuteTime": {
     "end_time": "2025-01-06T06:49:44.117545Z",
     "start_time": "2025-01-06T06:49:35.022302Z"
    }
   },
   "cell_type": "code",
   "source": [
    "from langchain_teddynote.messages import display_message_tree\n",
    "\n",
    "question = \"테디노트 YouTube\"\n",
    "\n",
    "for event in graph.stream({\"messages\": [(\"user\", question)]}):\n",
    "    for key, value in event.items():\n",
    "        print(f\"\\n==============\\nSTEP: {key}\\n==============\\n\")\n",
    "        display_message_tree(value[\"messages\"][-1])"
   ],
   "id": "1e9fcb007d98984e",
   "outputs": [
    {
     "name": "stdout",
     "output_type": "stream",
     "text": [
      "\n",
      "==============\n",
      "STEP: chatbot\n",
      "==============\n",
      "\n",
      "    \u001B[93mcontent\u001B[0m: \"\"\n",
      "    \u001B[93madditional_kwargs\u001B[0m:\n",
      "        \u001B[94mtool_calls\u001B[0m:\n",
      "            \u001B[94mindex [0]\u001B[0m\n",
      "                \u001B[92mid\u001B[0m: \"call_1bMrp7pwMjnwGc5Jw66zNtIa\"\n",
      "                \u001B[92mfunction\u001B[0m: {\"arguments\": \"{\"query\":\"테디노트 YouTube\"}\", \"name\": \"tavily_web_search\"}\n",
      "                \u001B[92mtype\u001B[0m: \"function\"\n",
      "        \u001B[94mrefusal\u001B[0m: None\n",
      "    \u001B[93mresponse_metadata\u001B[0m:\n",
      "        \u001B[94mtoken_usage\u001B[0m:\n",
      "            \u001B[95mcompletion_tokens\u001B[0m: 23\n",
      "            \u001B[95mprompt_tokens\u001B[0m: 97\n",
      "            \u001B[95mtotal_tokens\u001B[0m: 120\n",
      "            \u001B[95mcompletion_tokens_details\u001B[0m: {\"accepted_prediction_tokens\": 0, \"audio_tokens\": 0, \"reasoning_tokens\": 0, \"rejected_prediction_tokens\": 0}\n",
      "            \u001B[95mprompt_tokens_details\u001B[0m: {\"audio_tokens\": 0, \"cached_tokens\": 0}\n",
      "        \u001B[94mmodel_name\u001B[0m: \"gpt-4o-mini-2024-07-18\"\n",
      "        \u001B[94msystem_fingerprint\u001B[0m: \"fp_d02d531b47\"\n",
      "        \u001B[94mfinish_reason\u001B[0m: \"tool_calls\"\n",
      "        \u001B[94mlogprobs\u001B[0m: None\n",
      "    \u001B[93mtype\u001B[0m: \"ai\"\n",
      "    \u001B[93mname\u001B[0m: None\n",
      "    \u001B[93mid\u001B[0m: \"run-925d7dcd-1a38-4105-954c-da7998c0ce9d-0\"\n",
      "    \u001B[93mexample\u001B[0m: False\n",
      "    \u001B[93mtool_calls\u001B[0m:\n",
      "        \u001B[93mindex [0]\u001B[0m\n",
      "            \u001B[95mname\u001B[0m: \"tavily_web_search\"\n",
      "            \u001B[95margs\u001B[0m: {\"query\": \"테디노트 YouTube\"}\n",
      "            \u001B[95mid\u001B[0m: \"call_1bMrp7pwMjnwGc5Jw66zNtIa\"\n",
      "            \u001B[95mtype\u001B[0m: \"tool_call\"\n",
      "    \u001B[93minvalid_tool_calls\u001B[0m:\n",
      "    \u001B[93musage_metadata\u001B[0m:\n",
      "        \u001B[94minput_tokens\u001B[0m: 97\n",
      "        \u001B[94moutput_tokens\u001B[0m: 23\n",
      "        \u001B[94mtotal_tokens\u001B[0m: 120\n",
      "        \u001B[94minput_token_details\u001B[0m: {\"audio\": 0, \"cache_read\": 0}\n",
      "        \u001B[94moutput_token_details\u001B[0m: {\"audio\": 0, \"reasoning\": 0}\n",
      "\n",
      "==============\n",
      "STEP: tools\n",
      "==============\n",
      "\n",
      "    \u001B[93mcontent\u001B[0m: \"[{\"title\": \"강의 - 테디노트\", \"url\": \"https://teddylee777.github.io/lectures/\", \"content\": \"텐서플로 개발자 자격증 취득\\n🙏 아래의 내용을 참고해 주세요 🙏\\n📌 VOD 강의 링크\\n💻 한 방으로 끝내는 판다스(Pandas) 데이터 분석 - 전자책 포함\\n🙏 아래의 내용을 참고해 주세요 🙏\\n📌 VOD 강의 링크\\n🌱 한 권으로 끝내는 파이썬(Python) 코딩 입문 - 전자책 포함\\n🙏 아래의 내용을 참고해 주세요 🙏\\n📌 VOD 강의 링크\\n🌱 깃헙 블로그(Github blog)로 차별화 된 나만의 홈페이지 만들기!\\n 🔥알림🔥\\n① 테디노트 유튜브 -\\n구경하러 가기!\\n② 서울대 X 테디노트 ChatGPT & PyTorch 강의\\n강의 커리큘럼 👀\\n강의\\n아래에 나열된 강의는 모두 제가 직접 촬영 및 진행한 내 새끼같은 강의들입니다.\\n 주제별로 강의 영상을 시리즈로 모아 놓았어요😊\\n구독, 좋아요👍 그리고 댓글 감사합니다🥰\\n📌 지금 당장 유튜브 보러가기\\n✏️ 머신러닝 스터디 혼자 해보기\\n깃헙(GitHub)에 혼자서 데이터 분석, 머신러닝, 딥러닝을 스터디 할 수 있도록 주제별로 정리해 놓았어요✌️\\n저도 혼자서 공부를 했었는데, 이해가 쏙쏙 되는 강의와 블로그 주소들을 메모해 두었다가 정리해 본 내용이에요.\\n 강의 링크\\n🌱 스트림릿(Streamlit)을 활용한 파이썬 웹앱 제작하기\\n🙏 아래의 내용을 참고해 주세요 🙏\\n스트림릿(streamlit)을 활용하여 파이썬 웹앱 대시보드를 구현해보고 싶으신 분들께 추천 드립니다🤩\\n데이터 분석/대시보드 제작 그리고 머신러닝 모델을 배포해서 서비스화 시키는 과정입니다😊\\n파이썬 기본 문법만 알고 계신다면 부담 없이 도전해 만들어 보고 싶으신 분들께 추천 드립니다🤩\\n코딩은 거의 없기 때문에 코린이도 문제 없어요😊\\n테디노트와 같은 블로그를 만들어 보고 싶으시다면 지금 바로 도전해 보세요 🥰\\n📌 VOD\", \"score\": 0.66777676, \"raw_content\": \"🔥알림🔥\\n① 테디노트 유튜브 -\\n구경하러 가기!\\n② 서울대 X 테디노트 ChatGPT & PyTorch 강의\\n강의 커리큘럼 👀\\n강의\\n아래에 나열된 강의는 모두 제가 직접 촬영 및 진행한 내 새끼같은 강의들입니다.\\n강의에 대한 후기를 먼저 보시면 아시겠지만, 감사하게도 많은 분들이 수강하고 좋은 평가를 남겨 주셨습니다. 정말 한분 한분 감사하다는 인사를 꼭 드리고 싶습니다🙏\\n강의를 제작하면서 이것 하나만큼은 진심이었습니다.\\n“내 강의를 수강하신 분들의 돈, 시간을 낭비하는 강의는 절대 만들지도 팔지도 않겠다”\\n혹여 부족한 점이 있다 하더라도 추가 질의 응답을 통해 소통하고 있습니다.\\n데이터와 인공지능에 관심있는 분들이 조금이라도 지름길을 걸으실 수 있도록 양질의 콘텐츠 개발에 최선을 다하겠습니다. 감사합니다😊\\n🔥 Google 공인! 텐서플로 개발자 자격증 취득\\n🙏 아래의 내용을 참고해 주세요 🙏\\n📌 VOD 강의 링크\\n💻 한 방으로 끝내는 판다스(Pandas) 데이터 분석 - 전자책 포함\\n🙏 아래의 내용을 참고해 주세요 🙏\\n📌 VOD 강의 링크\\n🌱 한 권으로 끝내는 파이썬(Python) 코딩 입문 - 전자책 포함\\n🙏 아래의 내용을 참고해 주세요 🙏\\n📌 VOD 강의 링크\\n🌱 깃헙 블로그(Github blog)로 차별화 된 나만의 홈페이지 만들기!\\n🙏 아래의 내용을 참고해 주세요 🙏\\n제작부터 커스터마이징까지! 차별화된 깃헙 블로그(GitHub blog) 만들어 보고 싶으신 분들께 추천 드립니다🤩\\n코딩은 거의 없기 때문에 코린이도 문제 없어요😊\\n테디노트와 같은 블로그를 만들어 보고 싶으시다면 지금 바로 도전해 보세요 🥰\\n📌 VOD 강의 링크\\n🌱 스트림릿(Streamlit)을 활용한 파이썬 웹앱 제작하기\\n🙏 아래의 내용을 참고해 주세요 🙏\\n스트림릿(streamlit)을 활용하여 파이썬 웹앱 대시보드를 구현해보고 싶으신 분들께 추천 드립니다🤩\\n데이터 분석/대시보드 제작 그리고 머신러닝 모델을 배포해서 서비스화 시키는 과정입니다😊\\n파이썬 기본 문법만 알고 계신다면 부담 없이 도전해 보실 수 있어요 🥰\\n📌 VOD 강의 링크\\n❤️ 테디노트 유튜브(YouTube)\\n그 밖에도 다양한 주제로 강의 영상을 유튜브(YouTube) 채널에 업로드 하고 있어요\\n유튜브 채널에서 재생목록을 꼭 클릭해 보세요! 주제별로 강의 영상을 시리즈로 모아 놓았어요😊\\n구독, 좋아요👍 그리고 댓글 감사합니다🥰\\n📌 지금 당장 유튜브 보러가기\\n✏️ 머신러닝 스터디 혼자 해보기\\n깃헙(GitHub)에 혼자서 데이터 분석, 머신러닝, 딥러닝을 스터디 할 수 있도록 주제별로 정리해 놓았어요✌️\\n저도 혼자서 공부를 했었는데, 이해가 쏙쏙 되는 강의와 블로그 주소들을 메모해 두었다가 정리해 본 내용이에요.\\n그 밖에 실습파일, 블로그, 논문 등도 잘 정리해 두었으니, 지나가다 쓱 들러보세요😊\\n👀 (주의) 내용이 무척 많으니, 다 습득하려 하지 마시고, 모르는 내용만 발췌해서 보세요\\n📌 지금 당장 혼공 하러가기\"}, {\"title\": \"TeddyNote\", \"url\": \"https://teddynote.com/\", \"content\": \"테디노트.dev Teddy Lee (이경록) 👋. YouTube 테디노트; 블로그 테디노트; LinkedIn; LangChain. LangChain 한국어 튜토리얼 Github; LangChain 한국어 튜토리얼 위키독스 전자책\", \"score\": 0.64020914, \"raw_content\": null}, {\"title\": \"무료로 한국어 파인튜닝 모델 받아서 ... - GitHub\", \"url\": \"https://github.com/teddylee777/langserve_ollama\", \"content\": \"YouTube 튜토리얼 ... 테디노트 Permission is hereby granted, free of charge, to any person obtaining a copy of this software and associated documentation files (the \\\"Software\\\"), to deal in the Software without restriction, including without limitation the rights to use, copy, modify, merge, publish, distribute, sublicense, and/or sell\", \"score\": 0.6058229, \"raw_content\": \"Navigation Menu\\nSearch code, repositories, users, issues, pull requests...\\n\\n        Provide feedback\\n      \\nWe read every piece of feedback, and take your input very seriously.\\n\\n        Saved searches\\n      \\nUse saved searches to filter your results more quickly\\n\\n            To see all available qualifiers, see our documentation.\\n          \\n\\n        무료로 한국어🇰🇷 파인튜닝 모델 받아서 로컬 LLM 호스팅. LangServe, Ollama, streamlit + RAG\\n      \\nteddylee777/langserve_ollama\\nFolders and files\\nLatest commit\\nHistory\\nRepository files navigation\\n무료로 한국어🇰🇷 파인튜닝 모델 받아서 나만의 로컬 LLM 호스팅 하기(LangServe) + RAG 까지!!\\n업데이트 안내\\n2024-10-31: 변경 로그\\n2024-12-21: 변경 로그\\n공시 홈페이지\\nYouTube 튜토리얼\\n아래의 영상을 시청하시면서 따라서 진행하세요.\\n\\nHuggingFace gguf 파일을 Ollama 로딩\\nHuggingFace-Hub 설치\\n아래의 예시는 EEVE-Korean-Instruct-10.8B-v1.0\\nGGUF 파일을 다운로드 받기 위하여 https://huggingface.co/heegyu/EEVE-Korean-Instruct-10.8B-v1.0-GGUF 에서 원하는 .gguf 모델을 다운로드 받습니다.\\n순서대로\\nModelfile\\nEEVE-Korean-Instruct-10.8B-v1.0 예시\\nopenbuddy-llama2-13b 예시\\nOllama 실행\\nOllama 모델 목록\\nOllama 모델 실행\\nLangServe 에서 Ollama 체인 생성\\napp 폴더 진입 후\\nngrok 에서 터널링(포트 포워드)\\n\\nNGROK 도메인 등록 링크: https://dashboard.ngrok.com/cloud-edge/domains\\n고정 도메인이 있는 경우\\nGPU 사용량 모니터링\\nGithub Repo: https://github.com/tlkh/asitop\\n패스워드 설정\\n실행\\nLicense\\n소스코드를 활용하실 때는 반드시 출처를 표기해 주시기 바랍니다.\\nAbout\\n\\n        무료로 한국어🇰🇷 파인튜닝 모델 받아서 로컬 LLM 호스팅. LangServe, Ollama, streamlit + RAG\\n      \\nTopics\\nResources\\nStars\\nWatchers\\nForks\\n\\nReleases\\n\\nPackages\\n      0\\n\\nContributors\\n      2\\nLanguages\\nFooter\\nFooter navigation\\n\"}]\"\n",
      "    \u001B[93madditional_kwargs\u001B[0m: {}\n",
      "    \u001B[93mresponse_metadata\u001B[0m: {}\n",
      "    \u001B[93mtype\u001B[0m: \"tool\"\n",
      "    \u001B[93mname\u001B[0m: \"tavily_web_search\"\n",
      "    \u001B[93mid\u001B[0m: \"11a756fe-4567-434f-813f-059779e083c9\"\n",
      "    \u001B[93mtool_call_id\u001B[0m: \"call_1bMrp7pwMjnwGc5Jw66zNtIa\"\n",
      "    \u001B[93martifact\u001B[0m: None\n",
      "    \u001B[93mstatus\u001B[0m: \"success\"\n",
      "\n",
      "==============\n",
      "STEP: chatbot\n",
      "==============\n",
      "\n",
      "    \u001B[93mcontent\u001B[0m: \"테디노트(Teddy Note)는 다양한 주제로 강의를 제공하는 YouTube 채널과 블로그를 운영하고 있습니다. 테디노트의 YouTube 채널에서는 데이터 분석, 머신러닝, 딥러닝 관련 강의를 포함하여 여러 가지 주제에 대한 강의 영상을 시리즈로 제공하고 있습니다. \n",
      "\n",
      "### 관련 링크\n",
      "- [테디노트 YouTube 채널](https://teddylee777.github.io/lectures/)\n",
      "- [테디노트 공식 웹사이트](https://teddynote.com/)\n",
      "\n",
      "유튜브 채널에서는 강의 영상 외에도 다양한 유용한 콘텐츠와 자료를 제공하고 있으니, 관심 있는 분들은 구독하고 확인해 보시기 바랍니다!\"\n",
      "    \u001B[93madditional_kwargs\u001B[0m: {\"refusal\": None}\n",
      "    \u001B[93mresponse_metadata\u001B[0m:\n",
      "        \u001B[94mtoken_usage\u001B[0m:\n",
      "            \u001B[95mcompletion_tokens\u001B[0m: 158\n",
      "            \u001B[95mprompt_tokens\u001B[0m: 2431\n",
      "            \u001B[95mtotal_tokens\u001B[0m: 2589\n",
      "            \u001B[95mcompletion_tokens_details\u001B[0m: {\"accepted_prediction_tokens\": 0, \"audio_tokens\": 0, \"reasoning_tokens\": 0, \"rejected_prediction_tokens\": 0}\n",
      "            \u001B[95mprompt_tokens_details\u001B[0m: {\"audio_tokens\": 0, \"cached_tokens\": 0}\n",
      "        \u001B[94mmodel_name\u001B[0m: \"gpt-4o-mini-2024-07-18\"\n",
      "        \u001B[94msystem_fingerprint\u001B[0m: \"fp_0aa8d3e20b\"\n",
      "        \u001B[94mfinish_reason\u001B[0m: \"stop\"\n",
      "        \u001B[94mlogprobs\u001B[0m: None\n",
      "    \u001B[93mtype\u001B[0m: \"ai\"\n",
      "    \u001B[93mname\u001B[0m: None\n",
      "    \u001B[93mid\u001B[0m: \"run-83280f96-1508-40a2-b65e-45f0a122222d-0\"\n",
      "    \u001B[93mexample\u001B[0m: False\n",
      "    \u001B[93mtool_calls\u001B[0m:\n",
      "    \u001B[93minvalid_tool_calls\u001B[0m:\n",
      "    \u001B[93musage_metadata\u001B[0m:\n",
      "        \u001B[94minput_tokens\u001B[0m: 2431\n",
      "        \u001B[94moutput_tokens\u001B[0m: 158\n",
      "        \u001B[94mtotal_tokens\u001B[0m: 2589\n",
      "        \u001B[94minput_token_details\u001B[0m: {\"audio\": 0, \"cache_read\": 0}\n",
      "        \u001B[94moutput_token_details\u001B[0m: {\"audio\": 0, \"reasoning\": 0}\n"
     ]
    }
   ],
   "execution_count": 24
  }
 ],
 "metadata": {
  "kernelspec": {
   "display_name": "Python 3",
   "language": "python",
   "name": "python3"
  },
  "language_info": {
   "codemirror_mode": {
    "name": "ipython",
    "version": 2
   },
   "file_extension": ".py",
   "mimetype": "text/x-python",
   "name": "python",
   "nbconvert_exporter": "python",
   "pygments_lexer": "ipython2",
   "version": "2.7.6"
  }
 },
 "nbformat": 4,
 "nbformat_minor": 5
}
