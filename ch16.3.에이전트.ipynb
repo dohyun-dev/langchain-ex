{
 "cells": [
  {
   "metadata": {},
   "cell_type": "markdown",
   "source": [
    "# 03. 에이전트(Agent)\n",
    "\n",
    "## 도구 호출 에이전트(Tool Calling Agent)\n",
    "\n",
    "도구 호출을 사용하면 모델이 하나 이상의 도구(tool) 가 호출되어야 하는 시기를 감지하고 해당 도구에 전달해야 하는 입력 으로 전달할 수 있습니다.\n"
   ],
   "id": "cb3f46c53a2ee81f"
  },
  {
   "cell_type": "code",
   "id": "initial_id",
   "metadata": {
    "collapsed": true,
    "ExecuteTime": {
     "end_time": "2025-01-06T08:13:12.464772Z",
     "start_time": "2025-01-06T08:13:12.448685Z"
    }
   },
   "source": [
    "from dotenv import load_dotenv\n",
    "from langchain_teddynote import logging\n",
    "\n",
    "load_dotenv()\n",
    "logging.langsmith(\"CH15-Agents\")"
   ],
   "outputs": [
    {
     "name": "stdout",
     "output_type": "stream",
     "text": [
      "LangSmith 추적을 시작합니다.\n",
      "[프로젝트명]\n",
      "CH15-Agents\n"
     ]
    }
   ],
   "execution_count": 1
  },
  {
   "metadata": {
    "ExecuteTime": {
     "end_time": "2025-01-06T08:18:21.952647Z",
     "start_time": "2025-01-06T08:18:21.935786Z"
    }
   },
   "cell_type": "code",
   "source": [
    "from langchain.tools import tool\n",
    "from typing import List, Dict, Annotated\n",
    "from langchain_teddynote.tools import GoogleNews\n",
    "from langchain_experimental.utilities import PythonREPL\n",
    "\n",
    "@tool\n",
    "def search_news(query: str) -> List[Dict[str, str]]:\n",
    "    \"\"\"Search Google News by input keyword\"\"\"\n",
    "    news_tool = GoogleNews()\n",
    "    return news_tool.search_by_keyword(query, k=5)\n",
    "\n",
    "@tool\n",
    "def python_repl_tool(\n",
    "    code: Annotated[str, \"The python code to execute to generate your chart.\"],\n",
    "):\n",
    "    \"\"\"Use this to execute python code. If you want to see the output of a value,\n",
    "    you should print it out with `print(...)`. This is visible to the user.\"\"\"\n",
    "    result = \"\"\n",
    "    try:\n",
    "        result = PythonREPL().run(code)\n",
    "    except BaseException as e:\n",
    "        print(f\"Failed to execute. Error: {repr(e)}\")\n",
    "    finally:\n",
    "        return result\n",
    "\n",
    "tools = [search_news, python_repl_tool]"
   ],
   "id": "2cb8139622f51de3",
   "outputs": [],
   "execution_count": 7
  },
  {
   "metadata": {},
   "cell_type": "markdown",
   "source": [
    "### Agent 프롬프트 생성\n",
    "\n",
    "- chat_history : 이전 대화 내용을 저장하는 변수 (멀티턴을 지원하지 않는다면, 생략 가능합니다.)\n",
    "- agent_scratchpad : 에이전트가 임시로 저장하는 변수\n",
    "- input : 사용자의 입력"
   ],
   "id": "51ca5825e672394a"
  },
  {
   "metadata": {
    "ExecuteTime": {
     "end_time": "2025-01-06T08:18:23.851656Z",
     "start_time": "2025-01-06T08:18:23.843616Z"
    }
   },
   "cell_type": "code",
   "source": [
    "from langchain_core.prompts import ChatPromptTemplate, SystemMessagePromptTemplate\n",
    "\n",
    "# 프롬프트 생성\n",
    "# 프롬프트는 에이전트에게 모델이 수행할 작업을 설명하는 텍스트를 제공합니다. (도구의 이름과 역할을 입력)\n",
    "prompt = ChatPromptTemplate.from_messages(\n",
    "    [\n",
    "        (\n",
    "            \"system\", \n",
    "            \"You are a helpful assistant.\"\n",
    "            \"Make sure to use the `search_news` tool for searching keyword related news.\"\n",
    "         ),\n",
    "        (\"placeholder\", \"{chat_history}\"), # 이전 대화 내용 저장하는 변수\n",
    "        (\"human\", \"{input}\"),\n",
    "        (\"placeholder\", \"{agent_scratchpad}\"), # 에이전트가 임시로 저장하는 변수\n",
    "    ]\n",
    ")"
   ],
   "id": "85e85325e4507228",
   "outputs": [],
   "execution_count": 8
  },
  {
   "metadata": {
    "ExecuteTime": {
     "end_time": "2025-01-06T08:18:27.406879Z",
     "start_time": "2025-01-06T08:18:25.934310Z"
    }
   },
   "cell_type": "code",
   "source": [
    "# 에이전트 생성\n",
    "\n",
    "from langchain_openai import ChatOpenAI\n",
    "from langchain.agents import create_tool_calling_agent\n",
    "\n",
    "# LLM 정의\n",
    "llm = ChatOpenAI(model=\"gpt-4o-mini\", temperature=0)\n",
    "\n",
    "# Agent 생성\n",
    "agent = create_tool_calling_agent(llm, tools, prompt)"
   ],
   "id": "1f13935ff5783cfe",
   "outputs": [],
   "execution_count": 9
  },
  {
   "metadata": {},
   "cell_type": "markdown",
   "source": [
    "### AgentExecutor\n",
    "\n",
    "AgentExecutor는 도구를 사용하는 에이전트를 실행하는 클래스입니다.\n",
    "\n",
    "주요 속성\n",
    "- `agent`: 실행 루프의 각 단계에서 계획을 생성하고 행동을 결정하는 에이전트\n",
    "- `tools`: 에이전트가 사용할 수 있는 유효한 도구 목록\n",
    "- `return_intermediate_steps`: 최종 출력과 함께 에이전트의 중간 단계 경로를 반환할지 여부\n",
    "- `max_iterations`: 실행 루프를 종료하기 전 최대 단계 수\n",
    "- `max_execution_time`: 실행 루프에 소요될 수 있는 최대 시간\n",
    "- `early_stopping_method`: 에이전트가 AgentFinish를 반환하지 않을 때 사용할 조기 종료 방법. (\"force\" or \"generate\")\n",
    "    - \"force\" 는 시간 또는 반복 제한에 도달하여 중지되었다는 문자열을 반환합니다.\n",
    "    - \"generate\" 는 에이전트의 LLM 체인을 마지막으로 한 번 호출하여 이전 단계에 따라 최종 답변을 생성합니다.\n",
    "- `handle_parsing_errors`: 에이전트의 출력 파서에서 발생한 오류 처리 방법. (True, False, 또는 오류 처리 함수)\n",
    "- `trim_intermediate_steps`: 중간 단계를 트리밍하는 방법. (-1 trim 하지 않음, 또는 트리밍 함수)"
   ],
   "id": "c50be2d1ee9bcb4"
  },
  {
   "metadata": {
    "ExecuteTime": {
     "end_time": "2025-01-06T08:24:20.461833Z",
     "start_time": "2025-01-06T08:24:00.403863Z"
    }
   },
   "cell_type": "code",
   "source": [
    "from langchain.agents import AgentExecutor\n",
    "\n",
    "# AgentExecutor 생성\n",
    "agent_executor = AgentExecutor(\n",
    "    agent=agent, \n",
    "    tools=tools,\n",
    "    verbose=True,\n",
    "    max_iterations=10,\n",
    "    max_execution_time=10,\n",
    "    handle_parsing_errors=True,\n",
    ")\n",
    "\n",
    "# AgentExecutor 실행\n",
    "result = agent_executor.invoke({\"input\": \"AI 투자와 관련된 뉴스를 검색해 주세요.\"})\n",
    "\n",
    "print(\"Agent 실행 결과:\")\n",
    "print(result[\"output\"])"
   ],
   "id": "1dbd3d90a9a0df8d",
   "outputs": [
    {
     "name": "stdout",
     "output_type": "stream",
     "text": [
      "\n",
      "\n",
      "\u001B[1m> Entering new AgentExecutor chain...\u001B[0m\n",
      "\u001B[32;1m\u001B[1;3m\n",
      "Invoking: `search_news` with `{'query': 'AI 투자'}`\n",
      "\n",
      "\n",
      "\u001B[0m\u001B[36;1m\u001B[1;3m[{'url': 'https://news.google.com/rss/articles/CBMigwFBVV95cUxQZW1JVHBVNEtFM3ZSQi0zNlZGUVZDM3RHZGxZck8zTGxJZ1R6dUV2MWQzUFcxZFVSLS1ucU1jSXdJNzMzOGdQSGI1eG9NOEdvamg2bHBHN1FLaEdxSmpxRlk3bllZX19yQW5FZXhiU3lkNmQ4VEFVYlA3bm00SHFOVjRWONIBlwFBVV95cUxQa3hTVFZ6cnhPVmlZYVNNaW5uOVdVMFF2T1NRZm4waldnMWtaRnlaQ2xMQlB4MWVBV1lmbmJUcjhpamFBR3l3ZVZReXlRMUZ2ajBOVTh5LVFqdDF0X3R2eWV6RGwxTzZyeW9zWTdqTkdsdHUwTmNBeEMySHduOEZQYVlMbnB6ZVZ3blRFQ09KVG9zU3FKVWVn?oc=5', 'content': 'AI 투자 늘리는 MS “AI 데이터센터 구축에 연간 800억달러 투자할 것” - 조선일보'}, {'url': 'https://news.google.com/rss/articles/CBMiVkFVX3lxTFA2aVFhLXlib0diQUNKeDJhUFkxSWhxODVNeEtkV3pZX281NHRzLUhscE5HNGwwZ0hleV8xbFZaTHN6bkpMVDRiOWJiZnFOdnJSRXNvNlV3?oc=5', 'content': '“하반기 증시 먹구름 걷힌다…AI빅테크 투자 패러다임은 ‘소프트웨어’”[투자360] - 헤럴드경제'}, {'url': 'https://news.google.com/rss/articles/CBMiakFVX3lxTFBWdHFTOTVFR21GbHFzemVqNlJNOW9Ddy1QNGZEWFBsbVVfNGp1MlM0WHI5eXBuNUt6UzI0c2FLUFJ1bE0zRGlqX2hjWW9VUWlWVmZFN0xNVDVrUl9qZTl4NjFLYkttZ3dRS3c?oc=5', 'content': '2024년 생성 AI 투자, 총 79조로 역대 최고 기록 - AI타임스'}, {'url': 'https://news.google.com/rss/articles/CBMiggFBVV95cUxQX1NuMTNFbWlJNjBEbm9iMVJXYWNMR1kza2xzWmpHcG84UUdKdC1NTjJxUHV3SzR1bFNUUHFPNUdRQ1A5cDY0TlRQeW9ZdGVfT01Udnh6dVZnU0VUSm91QWNONjJpc3FONUVjam4wdUFsZHJ4WUs4SmNXSlNGQnRMQ0530gGWAUFVX3lxTE8wWGtwYXk3RVRhcno3ZFFveTRkZFJlcjlhZzBqdTZjcGtjYWV6RnNvSlRvU3BQMS1wMjlVYnhQTlg5Z1UxdlZPQTZPemFISjBwMVItdHE3QThSbk9tT0hKYlNJbzFjWXdxQ2VBZHNfZk4xajRONzFIcXFaV0NPdmZJR1VPa1J2OUhyZUJXWi1DUGxhdVhjZw?oc=5', 'content': '올해도 생성형 AI 투자 이어지지만… “경쟁력 없는 스타트업은 고사 위기” - 조선비즈 - 조선비즈'}, {'url': 'https://news.google.com/rss/articles/CBMiTkFVX3lxTE1MUDRGZ1F3Yy1xSThqUUF4Z0xrYjFIaU94R2VIYXQ3SGNDcGRKMU84QTNkZzA0SjZ1eS1uZlhQNnNONEQ4MXdaM0NzOHF3Zw?oc=5', 'content': \"리디아AI, 필리핀 킥스타트 벤처스로부터 투자 유치…'동남아 진출 본격화' - 전자신문\"}]\u001B[0m\u001B[32;1m\u001B[1;3m다음은 AI 투자와 관련된 최근 뉴스입니다:\n",
      "\n",
      "1. [AI 투자 늘리는 MS “AI 데이터센터 구축에 연간 800억달러 투자할 것” - 조선일보](https://news.google.com/rss/articles/CBMigwFBVV95cUxQZW1JVHBVNEtFM3ZSQi0zNlZGUVZDM3RHZGxZck8zTGxJZ1R6dUV2MWQzUFcxZFVSLS1ucU1jSXdJNzMzOGdQSGI1eG9NOEdvamg2bHBHN1FLaEdxSmpxRlk3bllZX19yQW5FZXhiU3lkNmQ4VEFVYlA3bm00SHFOVjRWONIBlwFBVV95cUxQa3hTVFZ6cnhPVmlZYVNNaW5uOVdVMFF2T1NRZm4waldnMWtaRnlaQ2xMQlB4MWVBV1lmbmJUcjhpamFBR3l3ZVZReXlRMUZ2ajBOVTh5LVFqdDF0X3R2eWV6RGwxTzZyeW9zWTdqTkdsdHUwTmNBeEMySHduOEZQYVlMbnB6ZVZ3blRFQ09KVG9zU3FKVWVn?oc=5)\n",
      "\n",
      "2. [“하반기 증시 먹구름 걷힌다…AI빅테크 투자 패러다임은 ‘소프트웨어’”[투자360] - 헤럴드경제](https://news.google.com/rss/articles/CBMiVkFVX3lxTFA2aVFhLXlib0diQUNKeDJhUFkxSWhxODVNeEtkV3pZX281NHRzLUhscE5HNGwwZ0hleV8xbFZaTHN6bkpMVDRiOWJiZnFOdnJSRXNvNlV3?oc=5)\n",
      "\n",
      "3. [2024년 생성 AI 투자, 총 79조로 역대 최고 기록 - AI타임스](https://news.google.com/rss/articles/CBMiakFVX3lxTFBWdHFTOTVFR21GbHFzemVqNlJNOW9Ddy1QNGZEWFBsbVVfNGp1MlM0WHI5eXBuNUt6UzI0c2FLUFJ1bE0zRGlqX2hjWW9VUWlWVmZFN0xNVDVrUl9qZTl4NjFLYkttZ3dRS3c?oc=5)\n",
      "\n",
      "4. [올해도 생성형 AI 투자 이어지지만… “경쟁력 없는 스타트업은 고사 위기” - 조선비즈](https://news.google.com/rss/articles/CBMiggFBVV95cUxQX1NuMTNFbWlJNjBEbm9iMVJXYWNMR1kza2xzWmpHcG84UUdKdC1NTjJxUHV3SzR1bFNUUHFPNUdRQ1A5cDY0TlRQeW9ZdGVfT01Udnh6dVZnU0VUSm91QWNONjJpc3FONUVjam4wdUFsZHJ4WUs4SmNXSlNGQnRMQ0530gGWAUFVX3lxTE8wWGtwYXk3RVRhcno3ZFFveTRkZFJlcjlhZzBqdTZjcGtjYWV6RnNvSlRvU3BQMS1wMjlVYnhQTlg5Z1UxdlZPQTZPemFISjBwMVItdHE3QThSbk9tT0hKYlNJbzFjWXdxQ2VBZHNfZk4xajRONzFIcXFaV0NPdmZJR1VPa1J2OUhyZUJXWi1DUGxhdVhjZw?oc=5)\n",
      "\n",
      "5. [리디아AI, 필리핀 킥스타트 벤처스로부터 투자 유치…'동남아 진출 본격화' - 전자신문](https://news.google.com/rss/articles/CBMiTkFVX3lxTE1MUDRGZ1F3Yy1xSThqUUF4Z0xrYjFIaU94R2VIYXQ3SGNDcGRKMU84QTNkZzA0SjZ1eS1uZlhQNnNONEQ4MXdaM0NzOHF3Zw?oc=5)\n",
      "\n",
      "이 뉴스들은 AI 투자에 대한 다양한 관점과 정보를 제공합니다.\u001B[0m\n",
      "\n",
      "\u001B[1m> Finished chain.\u001B[0m\n",
      "Agent 실행 결과:\n",
      "다음은 AI 투자와 관련된 최근 뉴스입니다:\n",
      "\n",
      "1. [AI 투자 늘리는 MS “AI 데이터센터 구축에 연간 800억달러 투자할 것” - 조선일보](https://news.google.com/rss/articles/CBMigwFBVV95cUxQZW1JVHBVNEtFM3ZSQi0zNlZGUVZDM3RHZGxZck8zTGxJZ1R6dUV2MWQzUFcxZFVSLS1ucU1jSXdJNzMzOGdQSGI1eG9NOEdvamg2bHBHN1FLaEdxSmpxRlk3bllZX19yQW5FZXhiU3lkNmQ4VEFVYlA3bm00SHFOVjRWONIBlwFBVV95cUxQa3hTVFZ6cnhPVmlZYVNNaW5uOVdVMFF2T1NRZm4waldnMWtaRnlaQ2xMQlB4MWVBV1lmbmJUcjhpamFBR3l3ZVZReXlRMUZ2ajBOVTh5LVFqdDF0X3R2eWV6RGwxTzZyeW9zWTdqTkdsdHUwTmNBeEMySHduOEZQYVlMbnB6ZVZ3blRFQ09KVG9zU3FKVWVn?oc=5)\n",
      "\n",
      "2. [“하반기 증시 먹구름 걷힌다…AI빅테크 투자 패러다임은 ‘소프트웨어’”[투자360] - 헤럴드경제](https://news.google.com/rss/articles/CBMiVkFVX3lxTFA2aVFhLXlib0diQUNKeDJhUFkxSWhxODVNeEtkV3pZX281NHRzLUhscE5HNGwwZ0hleV8xbFZaTHN6bkpMVDRiOWJiZnFOdnJSRXNvNlV3?oc=5)\n",
      "\n",
      "3. [2024년 생성 AI 투자, 총 79조로 역대 최고 기록 - AI타임스](https://news.google.com/rss/articles/CBMiakFVX3lxTFBWdHFTOTVFR21GbHFzemVqNlJNOW9Ddy1QNGZEWFBsbVVfNGp1MlM0WHI5eXBuNUt6UzI0c2FLUFJ1bE0zRGlqX2hjWW9VUWlWVmZFN0xNVDVrUl9qZTl4NjFLYkttZ3dRS3c?oc=5)\n",
      "\n",
      "4. [올해도 생성형 AI 투자 이어지지만… “경쟁력 없는 스타트업은 고사 위기” - 조선비즈](https://news.google.com/rss/articles/CBMiggFBVV95cUxQX1NuMTNFbWlJNjBEbm9iMVJXYWNMR1kza2xzWmpHcG84UUdKdC1NTjJxUHV3SzR1bFNUUHFPNUdRQ1A5cDY0TlRQeW9ZdGVfT01Udnh6dVZnU0VUSm91QWNONjJpc3FONUVjam4wdUFsZHJ4WUs4SmNXSlNGQnRMQ0530gGWAUFVX3lxTE8wWGtwYXk3RVRhcno3ZFFveTRkZFJlcjlhZzBqdTZjcGtjYWV6RnNvSlRvU3BQMS1wMjlVYnhQTlg5Z1UxdlZPQTZPemFISjBwMVItdHE3QThSbk9tT0hKYlNJbzFjWXdxQ2VBZHNfZk4xajRONzFIcXFaV0NPdmZJR1VPa1J2OUhyZUJXWi1DUGxhdVhjZw?oc=5)\n",
      "\n",
      "5. [리디아AI, 필리핀 킥스타트 벤처스로부터 투자 유치…'동남아 진출 본격화' - 전자신문](https://news.google.com/rss/articles/CBMiTkFVX3lxTE1MUDRGZ1F3Yy1xSThqUUF4Z0xrYjFIaU94R2VIYXQ3SGNDcGRKMU84QTNkZzA0SjZ1eS1uZlhQNnNONEQ4MXdaM0NzOHF3Zw?oc=5)\n",
      "\n",
      "이 뉴스들은 AI 투자에 대한 다양한 관점과 정보를 제공합니다.\n"
     ]
    }
   ],
   "execution_count": 10
  },
  {
   "metadata": {
    "ExecuteTime": {
     "end_time": "2025-01-06T08:25:49.818158Z",
     "start_time": "2025-01-06T08:25:32.237153Z"
    }
   },
   "cell_type": "code",
   "source": [
    "# 스트리밍 모드 실행\n",
    "result = agent_executor.stream({\"input\": \"AI 투자와 관련된 뉴스를 검색해 주세요.\"}) \n",
    "\n",
    "for step in result:\n",
    "    # 중간 단계 출력\n",
    "    print(step)"
   ],
   "id": "50558197161413c7",
   "outputs": [
    {
     "name": "stdout",
     "output_type": "stream",
     "text": [
      "\n",
      "\n",
      "\u001B[1m> Entering new None chain...\u001B[0m\n",
      "{'actions': [ToolAgentAction(tool='search_news', tool_input={'query': 'AI 투자'}, log=\"\\nInvoking: `search_news` with `{'query': 'AI 투자'}`\\n\\n\\n\", message_log=[AIMessageChunk(content='', additional_kwargs={'tool_calls': [{'index': 0, 'id': 'call_Z9TnpgbeHluLFoY4zpcuajJr', 'function': {'arguments': '{\"query\":\"AI 투자\"}', 'name': 'search_news'}, 'type': 'function'}]}, response_metadata={'finish_reason': 'tool_calls', 'model_name': 'gpt-4o-mini-2024-07-18', 'system_fingerprint': 'fp_0aa8d3e20b'}, id='run-71b6cf48-5ecb-4e12-9343-d44ad3a2341b', tool_calls=[{'name': 'search_news', 'args': {'query': 'AI 투자'}, 'id': 'call_Z9TnpgbeHluLFoY4zpcuajJr', 'type': 'tool_call'}], tool_call_chunks=[{'name': 'search_news', 'args': '{\"query\":\"AI 투자\"}', 'id': 'call_Z9TnpgbeHluLFoY4zpcuajJr', 'index': 0, 'type': 'tool_call_chunk'}])], tool_call_id='call_Z9TnpgbeHluLFoY4zpcuajJr')], 'messages': [AIMessageChunk(content='', additional_kwargs={'tool_calls': [{'index': 0, 'id': 'call_Z9TnpgbeHluLFoY4zpcuajJr', 'function': {'arguments': '{\"query\":\"AI 투자\"}', 'name': 'search_news'}, 'type': 'function'}]}, response_metadata={'finish_reason': 'tool_calls', 'model_name': 'gpt-4o-mini-2024-07-18', 'system_fingerprint': 'fp_0aa8d3e20b'}, id='run-71b6cf48-5ecb-4e12-9343-d44ad3a2341b', tool_calls=[{'name': 'search_news', 'args': {'query': 'AI 투자'}, 'id': 'call_Z9TnpgbeHluLFoY4zpcuajJr', 'type': 'tool_call'}], tool_call_chunks=[{'name': 'search_news', 'args': '{\"query\":\"AI 투자\"}', 'id': 'call_Z9TnpgbeHluLFoY4zpcuajJr', 'index': 0, 'type': 'tool_call_chunk'}])]}\n",
      "\u001B[32;1m\u001B[1;3m\n",
      "Invoking: `search_news` with `{'query': 'AI 투자'}`\n",
      "\n",
      "\n",
      "\u001B[0m\u001B[36;1m\u001B[1;3m[{'url': 'https://news.google.com/rss/articles/CBMigwFBVV95cUxQZW1JVHBVNEtFM3ZSQi0zNlZGUVZDM3RHZGxZck8zTGxJZ1R6dUV2MWQzUFcxZFVSLS1ucU1jSXdJNzMzOGdQSGI1eG9NOEdvamg2bHBHN1FLaEdxSmpxRlk3bllZX19yQW5FZXhiU3lkNmQ4VEFVYlA3bm00SHFOVjRWONIBlwFBVV95cUxQa3hTVFZ6cnhPVmlZYVNNaW5uOVdVMFF2T1NRZm4waldnMWtaRnlaQ2xMQlB4MWVBV1lmbmJUcjhpamFBR3l3ZVZReXlRMUZ2ajBOVTh5LVFqdDF0X3R2eWV6RGwxTzZyeW9zWTdqTkdsdHUwTmNBeEMySHduOEZQYVlMbnB6ZVZ3blRFQ09KVG9zU3FKVWVn?oc=5', 'content': 'AI 투자 늘리는 MS “AI 데이터센터 구축에 연간 800억달러 투자할 것” - 조선일보'}, {'url': 'https://news.google.com/rss/articles/CBMiVkFVX3lxTFA2aVFhLXlib0diQUNKeDJhUFkxSWhxODVNeEtkV3pZX281NHRzLUhscE5HNGwwZ0hleV8xbFZaTHN6bkpMVDRiOWJiZnFOdnJSRXNvNlV3?oc=5', 'content': '“하반기 증시 먹구름 걷힌다…AI빅테크 투자 패러다임은 ‘소프트웨어’”[투자360] - 헤럴드경제'}, {'url': 'https://news.google.com/rss/articles/CBMiakFVX3lxTFBWdHFTOTVFR21GbHFzemVqNlJNOW9Ddy1QNGZEWFBsbVVfNGp1MlM0WHI5eXBuNUt6UzI0c2FLUFJ1bE0zRGlqX2hjWW9VUWlWVmZFN0xNVDVrUl9qZTl4NjFLYkttZ3dRS3c?oc=5', 'content': '2024년 생성 AI 투자, 총 79조로 역대 최고 기록 - AI타임스'}, {'url': 'https://news.google.com/rss/articles/CBMiggFBVV95cUxQX1NuMTNFbWlJNjBEbm9iMVJXYWNMR1kza2xzWmpHcG84UUdKdC1NTjJxUHV3SzR1bFNUUHFPNUdRQ1A5cDY0TlRQeW9ZdGVfT01Udnh6dVZnU0VUSm91QWNONjJpc3FONUVjam4wdUFsZHJ4WUs4SmNXSlNGQnRMQ0530gGWAUFVX3lxTE8wWGtwYXk3RVRhcno3ZFFveTRkZFJlcjlhZzBqdTZjcGtjYWV6RnNvSlRvU3BQMS1wMjlVYnhQTlg5Z1UxdlZPQTZPemFISjBwMVItdHE3QThSbk9tT0hKYlNJbzFjWXdxQ2VBZHNfZk4xajRONzFIcXFaV0NPdmZJR1VPa1J2OUhyZUJXWi1DUGxhdVhjZw?oc=5', 'content': '올해도 생성형 AI 투자 이어지지만… “경쟁력 없는 스타트업은 고사 위기” - 조선비즈 - 조선비즈'}, {'url': 'https://news.google.com/rss/articles/CBMiTkFVX3lxTE1MUDRGZ1F3Yy1xSThqUUF4Z0xrYjFIaU94R2VIYXQ3SGNDcGRKMU84QTNkZzA0SjZ1eS1uZlhQNnNONEQ4MXdaM0NzOHF3Zw?oc=5', 'content': \"리디아AI, 필리핀 킥스타트 벤처스로부터 투자 유치…'동남아 진출 본격화' - 전자신문\"}]\u001B[0m{'steps': [AgentStep(action=ToolAgentAction(tool='search_news', tool_input={'query': 'AI 투자'}, log=\"\\nInvoking: `search_news` with `{'query': 'AI 투자'}`\\n\\n\\n\", message_log=[AIMessageChunk(content='', additional_kwargs={'tool_calls': [{'index': 0, 'id': 'call_Z9TnpgbeHluLFoY4zpcuajJr', 'function': {'arguments': '{\"query\":\"AI 투자\"}', 'name': 'search_news'}, 'type': 'function'}]}, response_metadata={'finish_reason': 'tool_calls', 'model_name': 'gpt-4o-mini-2024-07-18', 'system_fingerprint': 'fp_0aa8d3e20b'}, id='run-71b6cf48-5ecb-4e12-9343-d44ad3a2341b', tool_calls=[{'name': 'search_news', 'args': {'query': 'AI 투자'}, 'id': 'call_Z9TnpgbeHluLFoY4zpcuajJr', 'type': 'tool_call'}], tool_call_chunks=[{'name': 'search_news', 'args': '{\"query\":\"AI 투자\"}', 'id': 'call_Z9TnpgbeHluLFoY4zpcuajJr', 'index': 0, 'type': 'tool_call_chunk'}])], tool_call_id='call_Z9TnpgbeHluLFoY4zpcuajJr'), observation=[{'url': 'https://news.google.com/rss/articles/CBMigwFBVV95cUxQZW1JVHBVNEtFM3ZSQi0zNlZGUVZDM3RHZGxZck8zTGxJZ1R6dUV2MWQzUFcxZFVSLS1ucU1jSXdJNzMzOGdQSGI1eG9NOEdvamg2bHBHN1FLaEdxSmpxRlk3bllZX19yQW5FZXhiU3lkNmQ4VEFVYlA3bm00SHFOVjRWONIBlwFBVV95cUxQa3hTVFZ6cnhPVmlZYVNNaW5uOVdVMFF2T1NRZm4waldnMWtaRnlaQ2xMQlB4MWVBV1lmbmJUcjhpamFBR3l3ZVZReXlRMUZ2ajBOVTh5LVFqdDF0X3R2eWV6RGwxTzZyeW9zWTdqTkdsdHUwTmNBeEMySHduOEZQYVlMbnB6ZVZ3blRFQ09KVG9zU3FKVWVn?oc=5', 'content': 'AI 투자 늘리는 MS “AI 데이터센터 구축에 연간 800억달러 투자할 것” - 조선일보'}, {'url': 'https://news.google.com/rss/articles/CBMiVkFVX3lxTFA2aVFhLXlib0diQUNKeDJhUFkxSWhxODVNeEtkV3pZX281NHRzLUhscE5HNGwwZ0hleV8xbFZaTHN6bkpMVDRiOWJiZnFOdnJSRXNvNlV3?oc=5', 'content': '“하반기 증시 먹구름 걷힌다…AI빅테크 투자 패러다임은 ‘소프트웨어’”[투자360] - 헤럴드경제'}, {'url': 'https://news.google.com/rss/articles/CBMiakFVX3lxTFBWdHFTOTVFR21GbHFzemVqNlJNOW9Ddy1QNGZEWFBsbVVfNGp1MlM0WHI5eXBuNUt6UzI0c2FLUFJ1bE0zRGlqX2hjWW9VUWlWVmZFN0xNVDVrUl9qZTl4NjFLYkttZ3dRS3c?oc=5', 'content': '2024년 생성 AI 투자, 총 79조로 역대 최고 기록 - AI타임스'}, {'url': 'https://news.google.com/rss/articles/CBMiggFBVV95cUxQX1NuMTNFbWlJNjBEbm9iMVJXYWNMR1kza2xzWmpHcG84UUdKdC1NTjJxUHV3SzR1bFNUUHFPNUdRQ1A5cDY0TlRQeW9ZdGVfT01Udnh6dVZnU0VUSm91QWNONjJpc3FONUVjam4wdUFsZHJ4WUs4SmNXSlNGQnRMQ0530gGWAUFVX3lxTE8wWGtwYXk3RVRhcno3ZFFveTRkZFJlcjlhZzBqdTZjcGtjYWV6RnNvSlRvU3BQMS1wMjlVYnhQTlg5Z1UxdlZPQTZPemFISjBwMVItdHE3QThSbk9tT0hKYlNJbzFjWXdxQ2VBZHNfZk4xajRONzFIcXFaV0NPdmZJR1VPa1J2OUhyZUJXWi1DUGxhdVhjZw?oc=5', 'content': '올해도 생성형 AI 투자 이어지지만… “경쟁력 없는 스타트업은 고사 위기” - 조선비즈 - 조선비즈'}, {'url': 'https://news.google.com/rss/articles/CBMiTkFVX3lxTE1MUDRGZ1F3Yy1xSThqUUF4Z0xrYjFIaU94R2VIYXQ3SGNDcGRKMU84QTNkZzA0SjZ1eS1uZlhQNnNONEQ4MXdaM0NzOHF3Zw?oc=5', 'content': \"리디아AI, 필리핀 킥스타트 벤처스로부터 투자 유치…'동남아 진출 본격화' - 전자신문\"}])], 'messages': [FunctionMessage(content='[{\"url\": \"https://news.google.com/rss/articles/CBMigwFBVV95cUxQZW1JVHBVNEtFM3ZSQi0zNlZGUVZDM3RHZGxZck8zTGxJZ1R6dUV2MWQzUFcxZFVSLS1ucU1jSXdJNzMzOGdQSGI1eG9NOEdvamg2bHBHN1FLaEdxSmpxRlk3bllZX19yQW5FZXhiU3lkNmQ4VEFVYlA3bm00SHFOVjRWONIBlwFBVV95cUxQa3hTVFZ6cnhPVmlZYVNNaW5uOVdVMFF2T1NRZm4waldnMWtaRnlaQ2xMQlB4MWVBV1lmbmJUcjhpamFBR3l3ZVZReXlRMUZ2ajBOVTh5LVFqdDF0X3R2eWV6RGwxTzZyeW9zWTdqTkdsdHUwTmNBeEMySHduOEZQYVlMbnB6ZVZ3blRFQ09KVG9zU3FKVWVn?oc=5\", \"content\": \"AI 투자 늘리는 MS “AI 데이터센터 구축에 연간 800억달러 투자할 것” - 조선일보\"}, {\"url\": \"https://news.google.com/rss/articles/CBMiVkFVX3lxTFA2aVFhLXlib0diQUNKeDJhUFkxSWhxODVNeEtkV3pZX281NHRzLUhscE5HNGwwZ0hleV8xbFZaTHN6bkpMVDRiOWJiZnFOdnJSRXNvNlV3?oc=5\", \"content\": \"“하반기 증시 먹구름 걷힌다…AI빅테크 투자 패러다임은 ‘소프트웨어’”[투자360] - 헤럴드경제\"}, {\"url\": \"https://news.google.com/rss/articles/CBMiakFVX3lxTFBWdHFTOTVFR21GbHFzemVqNlJNOW9Ddy1QNGZEWFBsbVVfNGp1MlM0WHI5eXBuNUt6UzI0c2FLUFJ1bE0zRGlqX2hjWW9VUWlWVmZFN0xNVDVrUl9qZTl4NjFLYkttZ3dRS3c?oc=5\", \"content\": \"2024년 생성 AI 투자, 총 79조로 역대 최고 기록 - AI타임스\"}, {\"url\": \"https://news.google.com/rss/articles/CBMiggFBVV95cUxQX1NuMTNFbWlJNjBEbm9iMVJXYWNMR1kza2xzWmpHcG84UUdKdC1NTjJxUHV3SzR1bFNUUHFPNUdRQ1A5cDY0TlRQeW9ZdGVfT01Udnh6dVZnU0VUSm91QWNONjJpc3FONUVjam4wdUFsZHJ4WUs4SmNXSlNGQnRMQ0530gGWAUFVX3lxTE8wWGtwYXk3RVRhcno3ZFFveTRkZFJlcjlhZzBqdTZjcGtjYWV6RnNvSlRvU3BQMS1wMjlVYnhQTlg5Z1UxdlZPQTZPemFISjBwMVItdHE3QThSbk9tT0hKYlNJbzFjWXdxQ2VBZHNfZk4xajRONzFIcXFaV0NPdmZJR1VPa1J2OUhyZUJXWi1DUGxhdVhjZw?oc=5\", \"content\": \"올해도 생성형 AI 투자 이어지지만… “경쟁력 없는 스타트업은 고사 위기” - 조선비즈 - 조선비즈\"}, {\"url\": \"https://news.google.com/rss/articles/CBMiTkFVX3lxTE1MUDRGZ1F3Yy1xSThqUUF4Z0xrYjFIaU94R2VIYXQ3SGNDcGRKMU84QTNkZzA0SjZ1eS1uZlhQNnNONEQ4MXdaM0NzOHF3Zw?oc=5\", \"content\": \"리디아AI, 필리핀 킥스타트 벤처스로부터 투자 유치…\\'동남아 진출 본격화\\' - 전자신문\"}]', additional_kwargs={}, response_metadata={}, name='search_news')]}\n",
      "\u001B[32;1m\u001B[1;3m다음은 AI 투자와 관련된 최근 뉴스입니다:\n",
      "\n",
      "1. [AI 투자 늘리는 MS “AI 데이터센터 구축에 연간 800억달러 투자할 것” - 조선일보](https://news.google.com/rss/articles/CBMigwFBVV95cUxQZW1JVHBVNEtFM3ZSQi0zNlZGUVZDM3RHZGxZck8zTGxJZ1R6dUV2MWQzUFcxZFVSLS1ucU1jSXdJNzMzOGdQSGI1eG9NOEdvamg2bHBHN1FLaEdxSmpxRlk3bllZX19yQW5FZXhiU3lkNmQ4VEFVYlA3bm00SHFOVjRWONIBlwFBVV95cUxQa3hTVFZ6cnhPVmlZYVNNaW5uOVdVMFF2T1NRZm4waldnMWtaRnlaQ2xMQlB4MWVBV1lmbmJUcjhpamFBR3l3ZVZReXlRMUZ2ajBOVTh5LVFqdDF0X3R2eWV6RGwxTzZyeW9zWTdqTkdsdHUwTmNBeEMySHduOEZQYVlMbnB6ZVZ3blRFQ09KVG9zU3FKVWVn?oc=5)\n",
      "\n",
      "2. [“하반기 증시 먹구름 걷힌다…AI빅테크 투자 패러다임은 ‘소프트웨어’”[투자360] - 헤럴드경제](https://news.google.com/rss/articles/CBMiVkFVX3lxTFA2aVFhLXlib0diQUNKeDJhUFkxSWhxODVNeEtkV3pZX281NHRzLUhscE5HNGwwZ0hleV8xbFZaTHN6bkpMVDRiOWJiZnFOdnJSRXNvNlV3?oc=5)\n",
      "\n",
      "3. [2024년 생성 AI 투자, 총 79조로 역대 최고 기록 - AI타임스](https://news.google.com/rss/articles/CBMiakFVX3lxTFBWdHFTOTVFR21GbHFzemVqNlJNOW9Ddy1QNGZEWFBsbVVfNGp1MlM0WHI5eXBuNUt6UzI0c2FLUFJ1bE0zRGlqX2hjWW9VUWlWVmZFN0xNVDVrUl9qZTl4NjFLYkttZ3dRS3c?oc=5)\n",
      "\n",
      "4. [올해도 생성형 AI 투자 이어지지만… “경쟁력 없는 스타트업은 고사 위기” - 조선비즈](https://news.google.com/rss/articles/CBMiggFBVV95cUxQX1NuMTNFbWlJNjBEbm9iMVJXYWNMR1kza2xzWmpHcG84UUdKdC1NTjJxUHV3SzR1bFNUUHFPNUdRQ1A5cDY0TlRQeW9ZdGVfT01Udnh6dVZnU0VUSm91QWNONjJpc3FONUVjam4wdUFsZHJ4WUs4SmNXSlNGQnRMQ0530gGWAUFVX3lxTE8wWGtwYXk3RVRhcno3ZFFveTRkZFJlcjlhZzBqdTZjcGtjYWV6RnNvSlRvU3BQMS1wMjlVYnhQTlg5Z1UxdlZPQTZPemFISjBwMVItdHE3QThSbk9tT0hKYlNJbzFjWXdxQ2VBZHNfZk4xajRONzFIcXFaV0NPdmZJR1VPa1J2OUhyZUJXWi1DUGxhdVhjZw?oc=5)\n",
      "\n",
      "5. [리디아AI, 필리핀 킥스타트 벤처스로부터 투자 유치…'동남아 진출 본격화' - 전자신문](https://news.google.com/rss/articles/CBMiTkFVX3lxTE1MUDRGZ1F3Yy1xSThqUUF4Z0xrYjFIaU94R2VIYXQ3SGNDcGRKMU84QTNkZzA0SjZ1eS1uZlhQNnNONEQ4MXdaM0NzOHF3Zw?oc=5)\n",
      "\n",
      "이 뉴스들은 AI 투자에 대한 다양한 관점과 정보를 제공합니다.\u001B[0m\n",
      "\n",
      "\u001B[1m> Finished chain.\u001B[0m\n",
      "{'output': \"다음은 AI 투자와 관련된 최근 뉴스입니다:\\n\\n1. [AI 투자 늘리는 MS “AI 데이터센터 구축에 연간 800억달러 투자할 것” - 조선일보](https://news.google.com/rss/articles/CBMigwFBVV95cUxQZW1JVHBVNEtFM3ZSQi0zNlZGUVZDM3RHZGxZck8zTGxJZ1R6dUV2MWQzUFcxZFVSLS1ucU1jSXdJNzMzOGdQSGI1eG9NOEdvamg2bHBHN1FLaEdxSmpxRlk3bllZX19yQW5FZXhiU3lkNmQ4VEFVYlA3bm00SHFOVjRWONIBlwFBVV95cUxQa3hTVFZ6cnhPVmlZYVNNaW5uOVdVMFF2T1NRZm4waldnMWtaRnlaQ2xMQlB4MWVBV1lmbmJUcjhpamFBR3l3ZVZReXlRMUZ2ajBOVTh5LVFqdDF0X3R2eWV6RGwxTzZyeW9zWTdqTkdsdHUwTmNBeEMySHduOEZQYVlMbnB6ZVZ3blRFQ09KVG9zU3FKVWVn?oc=5)\\n\\n2. [“하반기 증시 먹구름 걷힌다…AI빅테크 투자 패러다임은 ‘소프트웨어’”[투자360] - 헤럴드경제](https://news.google.com/rss/articles/CBMiVkFVX3lxTFA2aVFhLXlib0diQUNKeDJhUFkxSWhxODVNeEtkV3pZX281NHRzLUhscE5HNGwwZ0hleV8xbFZaTHN6bkpMVDRiOWJiZnFOdnJSRXNvNlV3?oc=5)\\n\\n3. [2024년 생성 AI 투자, 총 79조로 역대 최고 기록 - AI타임스](https://news.google.com/rss/articles/CBMiakFVX3lxTFBWdHFTOTVFR21GbHFzemVqNlJNOW9Ddy1QNGZEWFBsbVVfNGp1MlM0WHI5eXBuNUt6UzI0c2FLUFJ1bE0zRGlqX2hjWW9VUWlWVmZFN0xNVDVrUl9qZTl4NjFLYkttZ3dRS3c?oc=5)\\n\\n4. [올해도 생성형 AI 투자 이어지지만… “경쟁력 없는 스타트업은 고사 위기” - 조선비즈](https://news.google.com/rss/articles/CBMiggFBVV95cUxQX1NuMTNFbWlJNjBEbm9iMVJXYWNMR1kza2xzWmpHcG84UUdKdC1NTjJxUHV3SzR1bFNUUHFPNUdRQ1A5cDY0TlRQeW9ZdGVfT01Udnh6dVZnU0VUSm91QWNONjJpc3FONUVjam4wdUFsZHJ4WUs4SmNXSlNGQnRMQ0530gGWAUFVX3lxTE8wWGtwYXk3RVRhcno3ZFFveTRkZFJlcjlhZzBqdTZjcGtjYWV6RnNvSlRvU3BQMS1wMjlVYnhQTlg5Z1UxdlZPQTZPemFISjBwMVItdHE3QThSbk9tT0hKYlNJbzFjWXdxQ2VBZHNfZk4xajRONzFIcXFaV0NPdmZJR1VPa1J2OUhyZUJXWi1DUGxhdVhjZw?oc=5)\\n\\n5. [리디아AI, 필리핀 킥스타트 벤처스로부터 투자 유치…'동남아 진출 본격화' - 전자신문](https://news.google.com/rss/articles/CBMiTkFVX3lxTE1MUDRGZ1F3Yy1xSThqUUF4Z0xrYjFIaU94R2VIYXQ3SGNDcGRKMU84QTNkZzA0SjZ1eS1uZlhQNnNONEQ4MXdaM0NzOHF3Zw?oc=5)\\n\\n이 뉴스들은 AI 투자에 대한 다양한 관점과 정보를 제공합니다.\", 'messages': [AIMessage(content=\"다음은 AI 투자와 관련된 최근 뉴스입니다:\\n\\n1. [AI 투자 늘리는 MS “AI 데이터센터 구축에 연간 800억달러 투자할 것” - 조선일보](https://news.google.com/rss/articles/CBMigwFBVV95cUxQZW1JVHBVNEtFM3ZSQi0zNlZGUVZDM3RHZGxZck8zTGxJZ1R6dUV2MWQzUFcxZFVSLS1ucU1jSXdJNzMzOGdQSGI1eG9NOEdvamg2bHBHN1FLaEdxSmpxRlk3bllZX19yQW5FZXhiU3lkNmQ4VEFVYlA3bm00SHFOVjRWONIBlwFBVV95cUxQa3hTVFZ6cnhPVmlZYVNNaW5uOVdVMFF2T1NRZm4waldnMWtaRnlaQ2xMQlB4MWVBV1lmbmJUcjhpamFBR3l3ZVZReXlRMUZ2ajBOVTh5LVFqdDF0X3R2eWV6RGwxTzZyeW9zWTdqTkdsdHUwTmNBeEMySHduOEZQYVlMbnB6ZVZ3blRFQ09KVG9zU3FKVWVn?oc=5)\\n\\n2. [“하반기 증시 먹구름 걷힌다…AI빅테크 투자 패러다임은 ‘소프트웨어’”[투자360] - 헤럴드경제](https://news.google.com/rss/articles/CBMiVkFVX3lxTFA2aVFhLXlib0diQUNKeDJhUFkxSWhxODVNeEtkV3pZX281NHRzLUhscE5HNGwwZ0hleV8xbFZaTHN6bkpMVDRiOWJiZnFOdnJSRXNvNlV3?oc=5)\\n\\n3. [2024년 생성 AI 투자, 총 79조로 역대 최고 기록 - AI타임스](https://news.google.com/rss/articles/CBMiakFVX3lxTFBWdHFTOTVFR21GbHFzemVqNlJNOW9Ddy1QNGZEWFBsbVVfNGp1MlM0WHI5eXBuNUt6UzI0c2FLUFJ1bE0zRGlqX2hjWW9VUWlWVmZFN0xNVDVrUl9qZTl4NjFLYkttZ3dRS3c?oc=5)\\n\\n4. [올해도 생성형 AI 투자 이어지지만… “경쟁력 없는 스타트업은 고사 위기” - 조선비즈](https://news.google.com/rss/articles/CBMiggFBVV95cUxQX1NuMTNFbWlJNjBEbm9iMVJXYWNMR1kza2xzWmpHcG84UUdKdC1NTjJxUHV3SzR1bFNUUHFPNUdRQ1A5cDY0TlRQeW9ZdGVfT01Udnh6dVZnU0VUSm91QWNONjJpc3FONUVjam4wdUFsZHJ4WUs4SmNXSlNGQnRMQ0530gGWAUFVX3lxTE8wWGtwYXk3RVRhcno3ZFFveTRkZFJlcjlhZzBqdTZjcGtjYWV6RnNvSlRvU3BQMS1wMjlVYnhQTlg5Z1UxdlZPQTZPemFISjBwMVItdHE3QThSbk9tT0hKYlNJbzFjWXdxQ2VBZHNfZk4xajRONzFIcXFaV0NPdmZJR1VPa1J2OUhyZUJXWi1DUGxhdVhjZw?oc=5)\\n\\n5. [리디아AI, 필리핀 킥스타트 벤처스로부터 투자 유치…'동남아 진출 본격화' - 전자신문](https://news.google.com/rss/articles/CBMiTkFVX3lxTE1MUDRGZ1F3Yy1xSThqUUF4Z0xrYjFIaU94R2VIYXQ3SGNDcGRKMU84QTNkZzA0SjZ1eS1uZlhQNnNONEQ4MXdaM0NzOHF3Zw?oc=5)\\n\\n이 뉴스들은 AI 투자에 대한 다양한 관점과 정보를 제공합니다.\", additional_kwargs={}, response_metadata={})]}\n"
     ]
    }
   ],
   "execution_count": 11
  },
  {
   "metadata": {
    "ExecuteTime": {
     "end_time": "2025-01-06T08:29:12.046521Z",
     "start_time": "2025-01-06T08:29:12.027474Z"
    }
   },
   "cell_type": "code",
   "source": [
    "from langchain_community.chat_message_histories import ChatMessageHistory\n",
    "from langchain_core.runnables.history import RunnableWithMessageHistory\n",
    "\n",
    "store = {}\n",
    "\n",
    "\n",
    "def get_session_history(session_ids):\n",
    "    if session_ids not in store:\n",
    "        store[session_ids] = ChatMessageHistory()\n",
    "    return store[session_ids]\n",
    "\n",
    "\n",
    "agent_with_chat_history = RunnableWithMessageHistory(\n",
    "    agent_executor,\n",
    "    # 대화 session_id\n",
    "    get_session_history,\n",
    "    # 프롬프트의 질문이 입력되는 key: \"input\"\n",
    "    input_messages_key=\"input\",\n",
    "    # 프롬프트의 메시지가 입력되는 key: \"chat_history\"\n",
    "    history_messages_key=\"chat_history\",\n",
    ")"
   ],
   "id": "18a9a3e38e49aa34",
   "outputs": [],
   "execution_count": 12
  },
  {
   "metadata": {
    "ExecuteTime": {
     "end_time": "2025-01-06T08:29:42.644351Z",
     "start_time": "2025-01-06T08:29:41.931897Z"
    }
   },
   "cell_type": "code",
   "source": [
    "# 질의에 대한 답변을 스트리밍으로 출력 요청\n",
    "response = agent_with_chat_history.stream(\n",
    "    {\"input\": \"안녕? 내 이름은 테디야!\"},\n",
    "    # session_id 설정\n",
    "    config={\"configurable\": {\"session_id\": \"abc123\"}},\n",
    ")\n",
    "\n",
    "# 출력 확인\n",
    "for step in response:\n",
    "    print(step)"
   ],
   "id": "71745c43c764dca7",
   "outputs": [
    {
     "name": "stdout",
     "output_type": "stream",
     "text": [
      "\n",
      "\n",
      "\u001B[1m> Entering new None chain...\u001B[0m\n",
      "\u001B[32;1m\u001B[1;3m안녕하세요, 테디! 만나서 반가워요. 어떻게 도와드릴까요?\u001B[0m\n",
      "\n",
      "\u001B[1m> Finished chain.\u001B[0m\n",
      "{'output': '안녕하세요, 테디! 만나서 반가워요. 어떻게 도와드릴까요?', 'messages': [AIMessage(content='안녕하세요, 테디! 만나서 반가워요. 어떻게 도와드릴까요?', additional_kwargs={}, response_metadata={})]}\n"
     ]
    }
   ],
   "execution_count": 13
  },
  {
   "metadata": {
    "ExecuteTime": {
     "end_time": "2025-01-06T08:30:43.522181Z",
     "start_time": "2025-01-06T08:30:42.631030Z"
    }
   },
   "cell_type": "code",
   "source": [
    " \n",
    "response = agent_with_chat_history.stream(\n",
    "    {\"input\": \"내 이름이 뭐라고?\"},\n",
    "    config={\"configurable\": {\"session_id\": \"abc123\"}},\n",
    ")\n",
    "\n",
    "for step in response:\n",
    "    for result in step:\n",
    "        print(result)"
   ],
   "id": "64ce91ea6749c46d",
   "outputs": [
    {
     "name": "stdout",
     "output_type": "stream",
     "text": [
      "\n",
      "\n",
      "\u001B[1m> Entering new None chain...\u001B[0m\n",
      "\u001B[32;1m\u001B[1;3m당신의 이름은 테디입니다!\u001B[0m\n",
      "\n",
      "\u001B[1m> Finished chain.\u001B[0m\n",
      "output\n",
      "messages\n"
     ]
    }
   ],
   "execution_count": 14
  },
  {
   "metadata": {
    "ExecuteTime": {
     "end_time": "2025-01-06T08:31:33.333143Z",
     "start_time": "2025-01-06T08:31:31.686026Z"
    }
   },
   "cell_type": "code",
   "source": [
    "# 질의에 대한 답변을 스트리밍으로 출력 요청\n",
    "response = agent_with_chat_history.stream(\n",
    "    {\n",
    "        \"input\": \"내 이메일 주소는 teddy@teddynote.com 이야. 회사 이름은 테디노트 주식회사야.\"\n",
    "    },\n",
    "    # session_id 설정\n",
    "    config={\"configurable\": {\"session_id\": \"abc123\"}},\n",
    ")\n",
    "\n",
    "for step in response:\n",
    "    for result in step:\n",
    "        print(result)"
   ],
   "id": "bc548ae27dc79f4c",
   "outputs": [
    {
     "name": "stdout",
     "output_type": "stream",
     "text": [
      "\n",
      "\n",
      "\u001B[1m> Entering new None chain...\u001B[0m\n",
      "\u001B[32;1m\u001B[1;3m네, 테디! 당신의 이메일 주소는 teddy@teddynote.com이고, 회사 이름은 테디노트 주식회사입니다. 추가로 도움이 필요하시면 말씀해 주세요!\u001B[0m\n",
      "\n",
      "\u001B[1m> Finished chain.\u001B[0m\n",
      "output\n",
      "messages\n"
     ]
    }
   ],
   "execution_count": 17
  },
  {
   "metadata": {
    "ExecuteTime": {
     "end_time": "2025-01-06T08:32:11.526264Z",
     "start_time": "2025-01-06T08:31:52.288609Z"
    }
   },
   "cell_type": "code",
   "source": [
    "# 질의에 대한 답변을 스트리밍으로 출력 요청\n",
    "response = agent_with_chat_history.stream(\n",
    "    {\n",
    "        \"input\": \"최신 뉴스 5개를 검색해서 이메일의 본문으로 작성해줘. \"\n",
    "        \"수신인에는 `셜리 상무님` 그리고, 발신인에는 내 인적정보를 적어줘.\"\n",
    "        \"정중한 어조로 작성하고, 메일의 시작과 끝에는 적절한 인사말과 맺음말을 적어줘.\"\n",
    "    },\n",
    "    # session_id 설정\n",
    "    config={\"configurable\": {\"session_id\": \"abc123\"}},\n",
    ")\n",
    "\n",
    "# 출력 확인\n",
    "for step in response:\n",
    "    for result in step:\n",
    "        print(result)"
   ],
   "id": "ac92f04ebd546306",
   "outputs": [
    {
     "name": "stdout",
     "output_type": "stream",
     "text": [
      "\n",
      "\n",
      "\u001B[1m> Entering new None chain...\u001B[0m\n",
      "actions\n",
      "messages\n",
      "\u001B[32;1m\u001B[1;3m\n",
      "Invoking: `search_news` with `{'query': 'latest news'}`\n",
      "\n",
      "\n",
      "\u001B[0m\u001B[36;1m\u001B[1;3m[{'url': 'https://news.google.com/rss/articles/CBMiakFVX3lxTFB6b3FPREFINURLSy1pVUZDbXB4X3JwaW1fVGNCRks1RklJMDFNTWxCbURTbGMwU05kWVRRLU9xNnVFUkNPVFNLaUlTOThQaDRoQzlKQWtsQnVETnFqbEhGc2hIQnU2RERoS3c?oc=5', 'content': '인사이드 구글 - The Keyword'}, {'url': 'https://news.google.com/rss/articles/CBMiakFVX3lxTE0xUUFmMlVnRFBVbG94ZDhwMGd4SUlFcUoxNXVGeDJHQVp3QXhvZUdCVEdjb0ZvLXVfMXZrRHo2a3VIWlljV3E4aHh1RzhoaE56RmFVOW10SUhFNkpMTHdDODZRU1BERW51Rmc?oc=5', 'content': \"[Breaking News] South Korean Court Rejects President Yoon's Appeal, Clearing Way for Presidential Office Raid - 한국면세뉴스\"}, {'url': 'https://news.google.com/rss/articles/CBMiaEFVX3lxTE1RUEhYZHM4YU5RU1BUeE9udGl5LTI4QkIwdzREbUdEZnNmSGZ4NnFyMTNpVGNvRlQ1UERfU2RFZERZOVJ4S2Q3S2EwUjlXTUNSNkpxTWpIRlljVWNZVEpyd3BvdlFrb0hU0gFsQVVfeXFMT3FuQ1pPRVZFbEw5Ym9DYlBWbE9HQWlqTkRLUEFUUmlVcjkwQjlrNWktRXNEcXRKdFU4cXU2UjJOeEIxZEYwdmlJMllEU3V1Ul92ZW52eUt5SnktM25oSGFvT0Y5ZFlROTRLRFE5?oc=5', 'content': 'THE STATE OF GLOBAL OPTIMISM REVEALED BY LG IN NEW SURVEY - KIPOST'}, {'url': 'https://news.google.com/rss/articles/CBMickFVX3lxTE9USmRUM2lXX0NkdXgwdWlYMk1MQnprMmEwT3UySUd0MFg1VTJzQldNMGNXVEw4N0VvUlJDaklEX2Vybl9QcGIwTGwyNzhYeS1sVkJmSDRDbDliRm9FOWRpMlJiM0FrWDBsb0RCeExKTVhYZw?oc=5', 'content': '지역별 가격 조정 예고 - Riot Games'}, {'url': 'https://news.google.com/rss/articles/CBMieEFVX3lxTE5FSDNsLXViSDZMVnk4V2sxM3VPQk9DREhZaVFLXzRoOS1adVh6eW5YdmFadzdrUFlla1BBWmFNUURaV2NRZjlTc1Q2ZzFTOERKOVh6YVVDUEZ2UE9RSUh1NlQzaTVVckIzODlza210bkdRRjhSdDRyOA?oc=5', 'content': '中 과학기술 혁신력 상승일로 최신 뉴스 온라인 선전시 정부 - SZ.GOV.CN'}]\u001B[0msteps\n",
      "messages\n",
      "\u001B[32;1m\u001B[1;3m아래는 셜리 상무님께 보낼 이메일 본문입니다.\n",
      "\n",
      "---\n",
      "\n",
      "**제목: 최신 뉴스 업데이트**\n",
      "\n",
      "안녕하세요, 셜리 상무님.\n",
      "\n",
      "테디노트 주식회사의 테디입니다. 아래는 최근의 주요 뉴스 5개입니다.\n",
      "\n",
      "1. [인사이드 구글 - The Keyword](https://news.google.com/rss/articles/CBMiakFVX3lxTFB6b3FPREFINURLSy1pVUZDbXB4X3JwaW1fVGNCRks1RklJMDFNTWxCbURTbGMwU05kWVRRLU9xNnVFUkNPVFNLaUlTOThQaDRoQzlKQWtsQnVETnFqbEhGc2hIQnU2RERoS3c?oc=5)\n",
      "   \n",
      "2. [한국면세뉴스: South Korean Court Rejects President Yoon's Appeal, Clearing Way for Presidential Office Raid](https://news.google.com/rss/articles/CBMiakFVX3lxTE0xUUFmMlVnRFBVbG94ZDhwMGd4SUlFcUoxNXVGeDJHQVp3QXhvZUdCVEdjb0ZvLXVfMXZrRHo2a3VIWlljV3E4aHh1RzhoaE56RmFVOW10SUhFNkpMTHdDODZRU1BERW51Rmc?oc=5)\n",
      "\n",
      "3. [KIPOST: THE STATE OF GLOBAL OPTIMISM REVEALED BY LG IN NEW SURVEY](https://news.google.com/rss/articles/CBMiaEFVX3lxTE1RUEhYZHM4YU5RU1BUeE9udGl5LTI4QkIwdzREbUdEZnNmSGZ4NnFyMTNpVGNvRlQ1UERfU2RFZERZOVJ4S2Q3S2EwUjlXTUNSNkpxTWpIRlljVWNZVEpyd3BvdlFrb0hU0gFsQVVfeXFMT3FuQ1pPRVZFbEw5Ym9DYlBWbE9HQWlqTkRLUEFUUmlVcjkwQjlrNWktRXNEcXRKdFU4cXU2UjJOeEIxZEYwdmlJMllEU3V1Ul92ZW52eUt5SnktM25oSGFvT0Y5ZFlROTRLRFE5?oc=5)\n",
      "\n",
      "4. [Riot Games: 지역별 가격 조정 예고](https://news.google.com/rss/articles/CBMickFVX3lxTE9USmRUM2lXX0NkdXgwdWlYMk1MQnprMmEwT3UySUd0MFg1VTJzQldNMGNXVEw4N0VvUlJDaklEX2Vybl9QcGIwTGwyNzhYeS1sVkJmSDRDbDliRm9FOWRpMlJiM0FrWDBsb0RCeExKTVhYZw?oc=5)\n",
      "\n",
      "5. [SZ.GOV.CN: 中 과학기술 혁신력 상승일로 최신 뉴스 온라인 선전시 정부](https://news.google.com/rss/articles/CBMieEFVX3lxTE5FSDNsLXViSDZMVnk4V2sxM3VPQk9DREhZaVFLXzRoOS1adVh6eW5YdmFadzdrUFlla1BBWmFNUURaV2NRZjlTc1Q2ZzFTOERKOVh6YVVDUEZ2UE9RSUh1NlQzaTVVckIzODlza210bkdRRjhSdDRyOA?oc=5)\n",
      "\n",
      "이 정보가 도움이 되길 바랍니다. 추가로 궁금하신 점이 있으시면 언제든지 말씀해 주세요.\n",
      "\n",
      "감사합니다.\n",
      "\n",
      "테디 드림  \n",
      "teddy@teddynote.com  \n",
      "테디노트 주식회사\n",
      "\n",
      "--- \n",
      "\n",
      "이메일을 보내실 준비가 되셨나요? 추가로 수정할 부분이 있으면 말씀해 주세요!\u001B[0m\n",
      "\n",
      "\u001B[1m> Finished chain.\u001B[0m\n",
      "output\n",
      "messages\n"
     ]
    }
   ],
   "execution_count": 18
  }
 ],
 "metadata": {
  "kernelspec": {
   "display_name": "Python 3",
   "language": "python",
   "name": "python3"
  },
  "language_info": {
   "codemirror_mode": {
    "name": "ipython",
    "version": 2
   },
   "file_extension": ".py",
   "mimetype": "text/x-python",
   "name": "python",
   "nbconvert_exporter": "python",
   "pygments_lexer": "ipython2",
   "version": "2.7.6"
  }
 },
 "nbformat": 4,
 "nbformat_minor": 5
}
