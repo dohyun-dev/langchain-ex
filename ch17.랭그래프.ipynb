{
 "cells": [
  {
   "metadata": {},
   "cell_type": "markdown",
   "source": "# 핵심 기능",
   "id": "eda19f6e8f8038ed"
  },
  {
   "metadata": {},
   "cell_type": "markdown",
   "source": [
    "## TypeDict\n",
    "1. dict와 TypedDict의 주요 차이점\n",
    "    - 타입 검사 : 정적 타입 검사를 제공, 코드 작성 시 IDE나 타입 체커가 오류를 미리 잡아낼 수 있음\n",
    "    - 키와 값의 타입 :  키에 대해 구체적인 타입을 지정할 수 있음\n",
    "    - 유연성 : 정의된 구조를 따라야 합니다. 추가적인 키는 타입 오류를 발생"
   ],
   "id": "b0ba8acba699c990"
  },
  {
   "metadata": {
    "ExecuteTime": {
     "end_time": "2025-01-06T06:02:19.222935Z",
     "start_time": "2025-01-06T06:02:19.211622Z"
    }
   },
   "cell_type": "code",
   "source": [
    "from typing import Dict, TypedDict\n",
    "\n",
    "sample_dict: Dict[str, str] = {\n",
    "    \"name\": \"테디\",\n",
    "    \"age\": \"30\",\n",
    "    \"job\": \"개발자\",\n",
    "}\n",
    "\n",
    "\n",
    "# TypedDict 사용\n",
    "class Person(TypedDict):\n",
    "    name: str\n",
    "    age: int \n",
    "    job: str\n",
    "\n",
    "\n",
    "typed_dict: Person = {\"name\": \"셜리\", \"age\": 25, \"job\": \"디자이너\"}"
   ],
   "id": "aa1b574db805fff4",
   "outputs": [],
   "execution_count": 1
  },
  {
   "metadata": {
    "ExecuteTime": {
     "end_time": "2025-01-06T06:02:52.512921Z",
     "start_time": "2025-01-06T06:02:52.505819Z"
    }
   },
   "cell_type": "code",
   "source": [
    "# dict의 경우\n",
    "sample_dict[\"age\"] = 35  # 문자열에서 정수로 변경되어도 오류 없음\n",
    "sample_dict[\"new_field\"] = \"추가 정보\"  # 새로운 필드 추가 가능\n",
    "\n",
    "# TypedDict의 경우\n",
    "typed_dict[\"age\"] = 35  # 정수형으로 올바르게 사용\n",
    "typed_dict[\"age\"] = \"35\"  # 타입 체커가 오류를 감지함\n",
    "typed_dict[\"new_field\"] = (\n",
    "    \"추가 정보\"\n",
    ")"
   ],
   "id": "e1569edfb6524ea0",
   "outputs": [],
   "execution_count": 2
  },
  {
   "metadata": {},
   "cell_type": "markdown",
   "source": [
    "## Annotated\n",
    "이 문법은 타입 힌트에 메타데이터를 추가할 수 있게 해줍니다. Annotated를 사용하는 주요 이유\n",
    "- ex)\n",
    "    - `name: Annotated[str, \"이름\"]`\n",
    "    - `age: Annotated[int, \"나이\"]`\n",
    "```python\n",
    "from typing import Annotated\n",
    "\n",
    "variable: Annotated[Type, metadata1, metadata2, ...]\n",
    "```\n",
    "- `Type`: 기본 타입 (예: int, str, List[str] 등)\n",
    "- `metadata1, metadata2, ...`: 추가하고자 하는 메타데이터"
   ],
   "id": "ca2881242a0df426"
  },
  {
   "metadata": {
    "ExecuteTime": {
     "end_time": "2025-01-06T06:05:21.294183Z",
     "start_time": "2025-01-06T06:05:21.284771Z"
    }
   },
   "cell_type": "code",
   "source": [
    "# 예시\n",
    "\n",
    "from typing import Annotated\n",
    "\n",
    "name: Annotated[str, \"사용자 이름\"]\n",
    "age: Annotated[int, \"사용자 나이 (0-150)\"]"
   ],
   "id": "45f3046cbf07454",
   "outputs": [],
   "execution_count": 4
  },
  {
   "metadata": {
    "ExecuteTime": {
     "end_time": "2025-01-06T06:06:40.217423Z",
     "start_time": "2025-01-06T06:06:40.106960Z"
    }
   },
   "cell_type": "code",
   "source": [
    "# Pydantic과 함께 사용\n",
    "\n",
    "from typing import Annotated, List\n",
    "from pydantic import Field, BaseModel, ValidationError\n",
    "\n",
    "\n",
    "class Employee(BaseModel):\n",
    "    id: Annotated[int, Field(..., description=\"직원 ID\")]\n",
    "    name: Annotated[str, Field(..., min_length=3, max_length=50, description=\"이름\")]\n",
    "    age: Annotated[int, Field(gt=18, lt=65, description=\"나이 (19-64세)\")]\n",
    "    salary: Annotated[\n",
    "        float, Field(gt=0, lt=10000, description=\"연봉 (단위: 만원, 최대 10억)\")\n",
    "    ]\n",
    "    skills: Annotated[\n",
    "        List[str], Field(min_items=1, max_items=10, description=\"보유 기술 (1-10개)\")\n",
    "    ]\n",
    "\n",
    "\n",
    "# 유효한 데이터로 인스턴스 생성\n",
    "try:\n",
    "    valid_employee = Employee(\n",
    "        id=1, name=\"테디노트\", age=30, salary=1000, skills=[\"Python\", \"LangChain\"]\n",
    "    )\n",
    "    print(\"유효한 직원 데이터:\", valid_employee)\n",
    "except ValidationError as e:\n",
    "    print(\"유효성 검사 오류:\", e)\n",
    "\n",
    "# 유효하지 않은 데이터로 인스턴스 생성 시도\n",
    "try:\n",
    "    invalid_employee = Employee(\n",
    "        name=\"테디\",  # 이름이 너무 짧음\n",
    "        age=17,  # 나이가 범위를 벗어남\n",
    "        salary=20000,  # 급여가 범위를 벗어남\n",
    "        skills=\"Python\",  # 리스트가 아님\n",
    "    )\n",
    "except ValidationError as e:\n",
    "    print(\"유효성 검사 오류:\")\n",
    "    for error in e.errors():\n",
    "        print(f\"- {error['loc'][0]}: {error['msg']}\")"
   ],
   "id": "a8dfc07a5e0a5d43",
   "outputs": [
    {
     "name": "stdout",
     "output_type": "stream",
     "text": [
      "유효한 직원 데이터: id=1 name='테디노트' age=30 salary=1000.0 skills=['Python', 'LangChain']\n",
      "유효성 검사 오류:\n",
      "- id: Field required\n",
      "- name: String should have at least 3 characters\n",
      "- age: Input should be greater than 18\n",
      "- salary: Input should be less than 10000\n",
      "- skills: Input should be a valid list\n"
     ]
    }
   ],
   "execution_count": 6
  },
  {
   "metadata": {},
   "cell_type": "markdown",
   "source": [
    "## LangGraph에서의 사용(add_messages)\n",
    "- add_messages 는 LangGraph 에서 메시지를 리스트에 추가하는 함수입니다."
   ],
   "id": "70eca18c310e2372"
  },
  {
   "metadata": {
    "ExecuteTime": {
     "end_time": "2025-01-06T06:05:44.557257Z",
     "start_time": "2025-01-06T06:05:44.544678Z"
    }
   },
   "cell_type": "code",
   "source": [
    "from typing import Annotated, TypedDict\n",
    "from langgraph.graph import add_messages\n",
    "\n",
    "class MyData(TypedDict):\n",
    "    messages: Annotated[list, add_messages]"
   ],
   "id": "58ba9c694201d3c3",
   "outputs": [],
   "execution_count": null
  },
  {
   "metadata": {
    "ExecuteTime": {
     "end_time": "2025-01-06T06:07:29.484028Z",
     "start_time": "2025-01-06T06:07:28.816614Z"
    }
   },
   "cell_type": "code",
   "source": [
    "from typing import Annotated, TypedDict\n",
    "from langgraph.graph import add_messages\n",
    "\n",
    "\n",
    "class MyData(TypedDict):\n",
    "    messages: Annotated[list, add_messages]"
   ],
   "id": "382774e2d88219cc",
   "outputs": [],
   "execution_count": 7
  },
  {
   "metadata": {},
   "cell_type": "markdown",
   "source": [
    "### add_messages\n",
    "\n",
    "- messages 키는 add_messages 리듀서 함수로 주석이 달려 있으며, 이는 LangGraph에게 기존 목록에 새 메시지를 추가하도록 지시합니다.\n",
    "\n",
    "- 주석이 없는 상태 키는 각 업데이트에 의해 덮어쓰여져 가장 최근의 값이 저장됩니다.\n",
    "\n",
    "- add_messages 함수는 2개의 인자(left, right)를 받으며 좌, 우 메시지를 병합하는 방식으로 동작합니다."
   ],
   "id": "b5119df53b7cb0b"
  },
  {
   "metadata": {
    "ExecuteTime": {
     "end_time": "2025-01-06T06:09:01.532806Z",
     "start_time": "2025-01-06T06:09:01.521390Z"
    }
   },
   "cell_type": "code",
   "source": [
    "from langchain_core.messages import AIMessage, HumanMessage\n",
    "from langgraph.graph import add_messages\n",
    "\n",
    "# 기본 사용 예시\n",
    "msgs1 = [HumanMessage(content=\"안녕하세요?\", id=\"1\")]\n",
    "msgs2 = [AIMessage(content=\"반갑습니다~\", id=\"2\")]\n",
    "\n",
    "result1 = add_messages(msgs1, msgs2)\n",
    "print(result1)\n",
    "\n",
    "# 동일한 ID를 가진 메시지 대체 예시\n",
    "msgs1 = [HumanMessage(content=\"안녕하세요?\", id=\"1\")]\n",
    "msgs2 = [HumanMessage(content=\"반갑습니다~\", id=\"1\")]\n",
    "\n",
    "result2 = add_messages(msgs1, msgs2)\n",
    "print(result2)"
   ],
   "id": "b8c8325c8d404d5",
   "outputs": [
    {
     "name": "stdout",
     "output_type": "stream",
     "text": [
      "[HumanMessage(content='안녕하세요?', additional_kwargs={}, response_metadata={}, id='1'), AIMessage(content='반갑습니다~', additional_kwargs={}, response_metadata={}, id='2')]\n",
      "[HumanMessage(content='반갑습니다~', additional_kwargs={}, response_metadata={}, id='1')]\n"
     ]
    }
   ],
   "execution_count": 10
  }
 ],
 "metadata": {
  "kernelspec": {
   "display_name": "Python 3",
   "language": "python",
   "name": "python3"
  },
  "language_info": {
   "codemirror_mode": {
    "name": "ipython",
    "version": 2
   },
   "file_extension": ".py",
   "mimetype": "text/x-python",
   "name": "python",
   "nbconvert_exporter": "python",
   "pygments_lexer": "ipython2",
   "version": "2.7.6"
  }
 },
 "nbformat": 4,
 "nbformat_minor": 5
}
