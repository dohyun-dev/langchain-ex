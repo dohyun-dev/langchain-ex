{
 "cells": [
  {
   "metadata": {},
   "cell_type": "markdown",
   "source": [
    "# 02. LangGraph를 활용한 챗봇 구축\n",
    "\n",
    "1. `StateGraph` 생성 - 챗봇의 구조를 \"상태 기계(State Machine)\"로 정의\n",
    "2. `nodes`를 추가 - 챗봇이 호출할 수 있는 llm과 함수들을 나타내기\n",
    "3. `edges`"
   ],
   "id": "7221eb416ad37194"
  },
  {
   "cell_type": "code",
   "id": "initial_id",
   "metadata": {
    "collapsed": true,
    "ExecuteTime": {
     "end_time": "2025-01-06T06:20:19.162214Z",
     "start_time": "2025-01-06T06:20:19.128327Z"
    }
   },
   "source": [
    "from IPython.core.completer import TypedDict\n",
    "from dotenv import load_dotenv\n",
    "from langchain_openai import ChatOpenAI\n",
    "from langchain_teddynote import logging\n",
    "from sympy.physics.units import temperature\n",
    "\n",
    "load_dotenv()\n",
    "logging.langsmith(\"CH17-LangGraph\")"
   ],
   "outputs": [
    {
     "name": "stdout",
     "output_type": "stream",
     "text": [
      "LangSmith 추적을 시작합니다.\n",
      "[프로젝트명]\n",
      "CH17-LangGraph\n"
     ]
    }
   ],
   "execution_count": 2
  },
  {
   "metadata": {
    "ExecuteTime": {
     "end_time": "2025-01-06T06:30:49.908615Z",
     "start_time": "2025-01-06T06:30:49.057832Z"
    }
   },
   "cell_type": "code",
   "source": [
    "from langgraph.constants import END, START\n",
    "# 1. 상태 정의\n",
    "from langgraph.graph import add_messages, StateGraph\n",
    "from typing import Annotated, TypedDict\n",
    "from langchain_openai import ChatOpenAI\n",
    "\n",
    "\n",
    "class State(TypedDict):\n",
    "    messages: Annotated[list, add_messages]\n",
    "    \n",
    "# 2. 노드 정의\n",
    "# llm\n",
    "llm = ChatOpenAI(model=\"gpt-4o-mini\", temperature=0)\n",
    "\n",
    "# 챗봇 함수 정의\n",
    "def chatbot(state: State):\n",
    "    return {\"messages\": [llm.invoke(state[\"messages\"])]}\n",
    "\n",
    "# 3. 그래프 정의 노드 추가\n",
    "graph_builder = StateGraph(State)\n",
    "graph_builder.add_node(\"chatbot\", chatbot)\n",
    "\n",
    "# 4. 그래프 엣지 추가\n",
    "graph_builder.add_edge(START, \"chatbot\")\n",
    "graph_builder.add_edge(\"chatbot\", END)\n",
    "\n",
    "# 5. 그래프 컴파일\n",
    "graph = graph_builder.compile()\n",
    "\n",
    "# 6. 그래프 시각화\n",
    "from langchain_teddynote.graphs import visualize_graph\n",
    "\n",
    "# 그래프 시각화\n",
    "visualize_graph(graph)"
   ],
   "id": "eba240ed81929e85",
   "outputs": [
    {
     "data": {
      "image/png": "[encoded data removed]",
      "text/plain": [
       "<IPython.core.display.Image object>"
      ]
     },
     "metadata": {},
     "output_type": "display_data"
    }
   ],
   "execution_count": 13
  },
  {
   "metadata": {
    "ExecuteTime": {
     "end_time": "2025-01-06T06:32:55.533935Z",
     "start_time": "2025-01-06T06:32:48.649128Z"
    }
   },
   "cell_type": "code",
   "source": [
    "# 7. 그래프 실행\n",
    "\n",
    "question = \"서울의 유명한 맛집 TOP 10 추천해줘\"\n",
    "\n",
    "# 그래프 이벤트 스트리밍\n",
    "for event in graph.stream({\"messages\": [(\"user\", question)]}):\n",
    "    # 이벤트 값 출력\n",
    "    for value in event.values():\n",
    "        print(\"Assistant:\", value[\"messages\"][-1].content)"
   ],
   "id": "519aabd691aaffc5",
   "outputs": [
    {
     "name": "stdout",
     "output_type": "stream",
     "text": [
      "Assistant: {'chatbot': {'messages': [AIMessage(content='서울에는 다양한 맛집이 많아서 선택하기가 어렵지만, 다음은 서울에서 유명한 맛집 TOP 10을 추천해 드립니다. 각 식당은 고유의 매력을 가지고 있으니 참고해 보세요!\\n\\n1. **광장시장** - 전통 시장으로, 빈대떡, 마약김밥, 떡볶이 등 다양한 길거리 음식을 즐길 수 있습니다.\\n\\n2. **이태원 부대찌개** - 부대찌개로 유명한 이곳은 푸짐한 양과 깊은 맛으로 많은 사랑을 받고 있습니다.\\n\\n3. **명동교자** - 칼국수와 만두가 유명한 곳으로, 항상 많은 사람들이 줄 서서 기다리는 인기 맛집입니다.\\n\\n4. **삼청동 수제비** - 수제비와 전통 한식을 즐길 수 있는 아늑한 분위기의 식당입니다.\\n\\n5. **한남동 소고기집** - 고급 한우를 맛볼 수 있는 곳으로, 고기 애호가들에게 추천합니다.\\n\\n6. **홍대 돈부리** - 일본식 덮밥 전문점으로, 다양한 토핑과 함께 맛있는 덮밥을 제공합니다.\\n\\n7. **압구정 로데오 거리의 카페** - 다양한 디저트와 커피를 즐길 수 있는 세련된 카페들이 많습니다.\\n\\n8. **신사동 가로수길의 브런치 카페** - 다양한 브런치 메뉴와 분위기 좋은 인테리어로 유명한 카페들이 많습니다.\\n\\n9. **종로의 전통 한정식** - 전통 한정식을 맛볼 수 있는 곳으로, 다양한 반찬과 함께 정갈한 한식을 제공합니다.\\n\\n10. **강남의 퓨전 한식 레스토랑** - 현대적인 감각으로 재해석한 한식을 제공하는 레스토랑들이 많아 새로운 맛을 경험할 수 있습니다.\\n\\n각 식당의 운영 시간이나 메뉴는 변동이 있을 수 있으니 방문 전에 확인해 보시는 것이 좋습니다. 맛있는 식사 되세요!', additional_kwargs={'refusal': None}, response_metadata={'token_usage': {'completion_tokens': 451, 'prompt_tokens': 19, 'total_tokens': 470, 'completion_tokens_details': {'accepted_prediction_tokens': 0, 'audio_tokens': 0, 'reasoning_tokens': 0, 'rejected_prediction_tokens': 0}, 'prompt_tokens_details': {'audio_tokens': 0, 'cached_tokens': 0}}, 'model_name': 'gpt-4o-mini-2024-07-18', 'system_fingerprint': 'fp_d02d531b47', 'finish_reason': 'stop', 'logprobs': None}, id='run-9f4ff7dc-a107-4f6d-a8b0-741e1fdbce24-0', usage_metadata={'input_tokens': 19, 'output_tokens': 451, 'total_tokens': 470, 'input_token_details': {'audio': 0, 'cache_read': 0}, 'output_token_details': {'audio': 0, 'reasoning': 0}})]}}\n"
     ]
    }
   ],
   "execution_count": 17
  },
  {
   "metadata": {},
   "cell_type": "code",
   "outputs": [],
   "execution_count": null,
   "source": "",
   "id": "deb39e14ddd22cea"
  }
 ],
 "metadata": {
  "kernelspec": {
   "display_name": "Python 3",
   "language": "python",
   "name": "python3"
  },
  "language_info": {
   "codemirror_mode": {
    "name": "ipython",
    "version": 2
   },
   "file_extension": ".py",
   "mimetype": "text/x-python",
   "name": "python",
   "nbconvert_exporter": "python",
   "pygments_lexer": "ipython2",
   "version": "2.7.6"
  }
 },
 "nbformat": 4,
 "nbformat_minor": 5
}
