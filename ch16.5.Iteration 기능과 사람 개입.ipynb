{
 "cells": [
  {
   "metadata": {},
   "cell_type": "markdown",
   "source": "# 05. Iteration 기능과 사람 개입(Human-in-the-loop)",
   "id": "d760d2d501eab806"
  },
  {
   "metadata": {},
   "cell_type": "markdown",
   "source": [
    "## Iteration 기능과 사람 개입(Human-in-the-loop)\n",
    "\n",
    "iter() 메서드는 에이전트의 실행 과정을 단계별로 반복할 수 있게 해주는 반복자(iterator)를 생성합니다.\n",
    "\n",
    "중간 과정에서 사용자의 입력을 받아 계속 진행할지 묻는 기능을 제공합니다. 이를 Human-in-the-loop 라고 합니다."
   ],
   "id": "3cf4ac2599e0057c"
  },
  {
   "cell_type": "code",
   "id": "initial_id",
   "metadata": {
    "collapsed": true,
    "ExecuteTime": {
     "end_time": "2025-01-06T08:34:37.948127Z",
     "start_time": "2025-01-06T08:34:37.937032Z"
    }
   },
   "source": [
    "from dotenv import load_dotenv\n",
    "from langchain_core.prompts import ChatPromptTemplate, MessagesPlaceholder\n",
    "from langchain_openai import ChatOpenAI\n",
    "from langchain_teddynote import logging\n",
    "from langgraph.prebuilt.chat_agent_executor import create_tool_calling_executor\n",
    "\n",
    "load_dotenv()\n",
    "logging.langsmith(\"CH15-Agents\")"
   ],
   "outputs": [
    {
     "name": "stdout",
     "output_type": "stream",
     "text": [
      "LangSmith 추적을 시작합니다.\n",
      "[프로젝트명]\n",
      "CH15-Agents\n"
     ]
    }
   ],
   "execution_count": 1
  },
  {
   "metadata": {
    "ExecuteTime": {
     "end_time": "2025-01-06T08:38:43.411877Z",
     "start_time": "2025-01-06T08:38:42.186826Z"
    }
   },
   "cell_type": "code",
   "source": [
    "from langchain.agents import tool, AgentExecutor\n",
    "\n",
    "\n",
    "@tool\n",
    "def add_function(a: float, b: float) -> float:\n",
    "    \"\"\"Adds two numbers together.\"\"\"\n",
    "    return a + b"
   ],
   "id": "46eccd79f1f29acb",
   "outputs": [],
   "execution_count": 3
  },
  {
   "metadata": {
    "ExecuteTime": {
     "end_time": "2025-01-06T08:39:00.472917Z",
     "start_time": "2025-01-06T08:38:59.910560Z"
    }
   },
   "cell_type": "code",
   "source": [
    "from langchain_core.prompts import ChatPromptTemplate, MessagesPlaceholder\n",
    "from langchain_openai import ChatOpenAI\n",
    "from langchain.agents import create_tool_calling_agent, AgentExecutor\n",
    "\n",
    "tools = [add_function]\n",
    "\n",
    "prompt = ChatPromptTemplate.from_messages(\n",
    "    [\n",
    "        (\n",
    "            \"system\",\n",
    "            \"You are a helpful assistant. Make sure to use the `search_news` tool for searching keyword related news.\",\n",
    "        ),\n",
    "        (\"human\", \"{input}\"),\n",
    "        MessagesPlaceholder(variable_name=\"agent_scratchpad\")\n",
    "    ]\n",
    ")\n",
    "\n",
    "llm = ChatOpenAI(model=\"gpt-4o-mini\")\n",
    "\n",
    "agent = create_tool_calling_agent(llm, tools, prompt)\n",
    "\n",
    "agent_executor = AgentExecutor(\n",
    "    agent=agent,\n",
    "    tools=tools,\n",
    "    verbose=False,\n",
    "    max_iterations=10,\n",
    "    handle_parsing_errors=True,\n",
    ")"
   ],
   "id": "2b669bf3c159e130",
   "outputs": [],
   "execution_count": 7
  },
  {
   "metadata": {},
   "cell_type": "markdown",
   "source": [
    "### AgentExecutor의 iter()\n",
    "\n",
    "이 메서드는 AgentExecutor의 실행 과정을 단계별로 반복할 수 있게 해주는 반복자(iterator)를 생성합니다.\n",
    "\n",
    "`iter() 는 에이전트가 최종 출력에 도달하기까지 거치는 단계들을 순차적으로 접근할 수 있는 AgentExecutorIterator 객체를 반환합니다.`"
   ],
   "id": "2007174575804d13"
  },
  {
   "metadata": {
    "ExecuteTime": {
     "end_time": "2025-01-06T08:47:50.243139Z",
     "start_time": "2025-01-06T08:47:40.799409Z"
    }
   },
   "cell_type": "code",
   "source": [
    "question = \"114.5 + 121.2 + 34.2 + 110.1 의 계산 결과는?\"\n",
    "\n",
    "for step in agent_executor.iter({\"input\": question}):\n",
    "    print(\"====\")\n",
    "    if output := step.get(\"intermediate_step\"):\n",
    "        action, value = output[0]\n",
    "        print(output)\n",
    "        if action.tool == \"add_function\":\n",
    "            # Tool 실행 결과 출력\n",
    "            print(f\"\\nTool Name: {action.tool}, 실행 결과: {value}\")\n",
    "        # 사용자에게 계속 진행할지 묻습니다.\n",
    "        _continue = input(\"계속 진행하시겠습니다? (y/n)?:\\n\") or \"Y\"\n",
    "        # 사용자가 'y'가 아닌 다른 입력을 하면 반복 중단\n",
    "        if _continue.lower() != \"y\":\n",
    "            break\n",
    "            \n",
    "if \"output\" in step:\n",
    "     print(step[\"output\"])\n",
    "        "
   ],
   "id": "4872e3630cbd7f4d",
   "outputs": [
    {
     "name": "stdout",
     "output_type": "stream",
     "text": [
      "====\n",
      "[(ToolAgentAction(tool='add_function', tool_input={'a': 114.5, 'b': 121.2}, log=\"\\nInvoking: `add_function` with `{'a': 114.5, 'b': 121.2}`\\n\\n\\n\", message_log=[AIMessageChunk(content='', additional_kwargs={'tool_calls': [{'index': 0, 'id': 'call_IxPmkpAAlmyBWOXdwNELqeiM', 'function': {'arguments': '{\"a\":114.5,\"b\":121.2}', 'name': 'add_function'}, 'type': 'function'}]}, response_metadata={'finish_reason': 'tool_calls', 'model_name': 'gpt-4o-mini-2024-07-18', 'system_fingerprint': 'fp_0aa8d3e20b'}, id='run-0be8b661-8296-43ae-850f-5159669a75ad', tool_calls=[{'name': 'add_function', 'args': {'a': 114.5, 'b': 121.2}, 'id': 'call_IxPmkpAAlmyBWOXdwNELqeiM', 'type': 'tool_call'}], tool_call_chunks=[{'name': 'add_function', 'args': '{\"a\":114.5,\"b\":121.2}', 'id': 'call_IxPmkpAAlmyBWOXdwNELqeiM', 'index': 0, 'type': 'tool_call_chunk'}])], tool_call_id='call_IxPmkpAAlmyBWOXdwNELqeiM'), 235.7)]\n",
      "\n",
      "Tool Name: add_function, 실행 결과: 235.7\n",
      "====\n",
      "[(ToolAgentAction(tool='add_function', tool_input={'a': 235.7, 'b': 34.2}, log=\"\\nInvoking: `add_function` with `{'a': 235.7, 'b': 34.2}`\\n\\n\\n\", message_log=[AIMessageChunk(content='', additional_kwargs={'tool_calls': [{'index': 0, 'id': 'call_Hu2hed83vlkJiC58Nn22aQso', 'function': {'arguments': '{\"a\":235.7,\"b\":34.2}', 'name': 'add_function'}, 'type': 'function'}]}, response_metadata={'finish_reason': 'tool_calls', 'model_name': 'gpt-4o-mini-2024-07-18', 'system_fingerprint': 'fp_0aa8d3e20b'}, id='run-2ce0f20c-44a5-49d2-9181-956e9de5af9c', tool_calls=[{'name': 'add_function', 'args': {'a': 235.7, 'b': 34.2}, 'id': 'call_Hu2hed83vlkJiC58Nn22aQso', 'type': 'tool_call'}], tool_call_chunks=[{'name': 'add_function', 'args': '{\"a\":235.7,\"b\":34.2}', 'id': 'call_Hu2hed83vlkJiC58Nn22aQso', 'index': 0, 'type': 'tool_call_chunk'}])], tool_call_id='call_Hu2hed83vlkJiC58Nn22aQso'), 269.9)]\n",
      "\n",
      "Tool Name: add_function, 실행 결과: 269.9\n",
      "====\n",
      "[(ToolAgentAction(tool='add_function', tool_input={'a': 269.9, 'b': 110.1}, log=\"\\nInvoking: `add_function` with `{'a': 269.9, 'b': 110.1}`\\n\\n\\n\", message_log=[AIMessageChunk(content='', additional_kwargs={'tool_calls': [{'index': 0, 'id': 'call_89fW79Hllc2Six6mTW4re2Xi', 'function': {'arguments': '{\"a\":269.9,\"b\":110.1}', 'name': 'add_function'}, 'type': 'function'}]}, response_metadata={'finish_reason': 'tool_calls', 'model_name': 'gpt-4o-mini-2024-07-18', 'system_fingerprint': 'fp_0aa8d3e20b'}, id='run-43b4a431-6149-4fc2-bb40-94a36f9ecdde', tool_calls=[{'name': 'add_function', 'args': {'a': 269.9, 'b': 110.1}, 'id': 'call_89fW79Hllc2Six6mTW4re2Xi', 'type': 'tool_call'}], tool_call_chunks=[{'name': 'add_function', 'args': '{\"a\":269.9,\"b\":110.1}', 'id': 'call_89fW79Hllc2Six6mTW4re2Xi', 'index': 0, 'type': 'tool_call_chunk'}])], tool_call_id='call_89fW79Hllc2Six6mTW4re2Xi'), 380.0)]\n",
      "\n",
      "Tool Name: add_function, 실행 결과: 380.0\n",
      "====\n",
      "114.5 + 121.2 + 34.2 + 110.1 의 계산 결과는 380.0 입니다.\n"
     ]
    }
   ],
   "execution_count": 17
  }
 ],
 "metadata": {
  "kernelspec": {
   "display_name": "Python 3",
   "language": "python",
   "name": "python3"
  },
  "language_info": {
   "codemirror_mode": {
    "name": "ipython",
    "version": 2
   },
   "file_extension": ".py",
   "mimetype": "text/x-python",
   "name": "python",
   "nbconvert_exporter": "python",
   "pygments_lexer": "ipython2",
   "version": "2.7.6"
  }
 },
 "nbformat": 4,
 "nbformat_minor": 5
}
