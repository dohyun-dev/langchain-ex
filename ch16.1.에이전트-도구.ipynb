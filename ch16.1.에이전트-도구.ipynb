{
 "cells": [
  {
   "metadata": {},
   "cell_type": "markdown",
   "source": [
    "# 도구 (Tools)\n",
    "\n",
    "도구(Tool)는 에이전트, 체인 또는 LLM이 외부 세계와 상호작용하기 위한 인터페이스입니다.\n",
    "\n",
    "LangChain 에서 기본 제공하는 도구를 사용하여 쉽게 도구를 활용할 수 있으며, 사용자 정의 도구(Custom Tool) 를 쉽게 구축하는 것도 가능합니다."
   ],
   "id": "a240b0ffbc21bd57"
  },
  {
   "metadata": {
    "ExecuteTime": {
     "end_time": "2025-01-06T07:00:48.055999Z",
     "start_time": "2025-01-06T07:00:48.044697Z"
    }
   },
   "cell_type": "code",
   "source": [
    "from dotenv import load_dotenv\n",
    "from langchain_teddynote import logging\n",
    "import warnings\n",
    "\n",
    "\n",
    "load_dotenv()\n",
    "logging.langsmith(\"CH15-Tools\")\n",
    "warnings.filterwarnings(\"ignore\")"
   ],
   "id": "cb1eb26f9ad0d25e",
   "outputs": [
    {
     "name": "stdout",
     "output_type": "stream",
     "text": [
      "LangSmith 추적을 시작합니다.\n",
      "[프로젝트명]\n",
      "CH15-Tools\n"
     ]
    }
   ],
   "execution_count": 3
  },
  {
   "metadata": {},
   "cell_type": "markdown",
   "source": [
    "## 빌트인 도구(built-in tools)\n",
    "\n",
    "체인에서 제공하는 사전에 정의된 도구(tool) 와 툴킷(toolkit) 을 사용할 수 있습니다.\n",
    "\n",
    "tool 은 단일 도구를 의미하며, toolkit 은 여러 도구를 묶어서 하나의 도구로 사용할 수 있습니다."
   ],
   "id": "b20f2709909d3a68"
  },
  {
   "metadata": {},
   "cell_type": "markdown",
   "source": [
    "### Python REPL 도구\n",
    "\n",
    "**설명**\n",
    "- Python 셸 환경을 제공합니다.\n",
    "- 유효한 Python 명령어를 입력으로 받아 실행합니다.\n",
    "- 결과를 보려면 print(...) 함수를 사용해야 합니다.\n",
    "\n",
    "**주요 특징**\n",
    "- sanitize_input: 입력을 정제하는 옵션 (기본값: True)\n",
    "- python_repl: PythonREPL 인스턴스 (기본값: 전역 범위에서 실행)\n",
    "- 사용 방법\n",
    "\n",
    "**PythonREPLTool 인스턴스 생성**\n",
    "- run 또는 arun, invoke 메서드를 사용하여 Python 코드 실행\n",
    "\n",
    "**입력 정제**\n",
    "- 입력 문자열에서 불필요한 공백, 백틱, 'python' 키워드 등을 제거합니다."
   ],
   "id": "aef06bc7a7751b20"
  },
  {
   "metadata": {
    "ExecuteTime": {
     "end_time": "2025-01-06T07:05:36.006358Z",
     "start_time": "2025-01-06T07:05:35.884199Z"
    }
   },
   "cell_type": "code",
   "source": [
    "from langchain_experimental.tools import PythonREPLTool\n",
    "\n",
    "python_tool = PythonREPLTool()\n",
    "\n",
    "# 파이썬 코드를 실행하고 결과를 반환합니다.\n",
    "print(python_tool.invoke(\"print(100 + 200)\"))"
   ],
   "id": "5e791b730161e8b5",
   "outputs": [
    {
     "name": "stderr",
     "output_type": "stream",
     "text": [
      "Python REPL can execute arbitrary code. Use with caution.\n"
     ]
    },
    {
     "name": "stdout",
     "output_type": "stream",
     "text": [
      "300\n",
      "\n"
     ]
    }
   ],
   "execution_count": 5
  },
  {
   "metadata": {
    "ExecuteTime": {
     "end_time": "2025-01-06T07:06:35.457850Z",
     "start_time": "2025-01-06T07:06:33.129561Z"
    }
   },
   "cell_type": "code",
   "source": [
    "from langchain_openai import ChatOpenAI\n",
    "from langchain_core.prompts import ChatPromptTemplate\n",
    "from langchain_core.output_parsers import StrOutputParser\n",
    "from langchain_core.runnables import RunnableLambda\n",
    "\n",
    "\n",
    "# 파이썬 코드를 실행하고 중간 과정을 출력하고 도구 실행 결과를 반환하는 함수\n",
    "def print_and_execute(code, debug=True):\n",
    "    if debug:\n",
    "        print(\"CODE:\")\n",
    "        print(code)\n",
    "    return python_tool.invoke(code)\n",
    "\n",
    "\n",
    "# 파이썬 코드를 작성하도록 요청하는 프롬프트\n",
    "prompt = ChatPromptTemplate.from_messages(\n",
    "    [\n",
    "        (\n",
    "            \"system\",\n",
    "            \"You are Raymond Hetting, an expert python programmer, well versed in meta-programming and elegant, concise and short but well documented code. You follow the PEP8 style guide. \"\n",
    "            \"Return only the code, no intro, no explanation, no chatty, no markdown, no code block, no nothing. Just the code.\",\n",
    "        ),\n",
    "        (\"human\", \"{input}\"),\n",
    "    ]\n",
    ")\n",
    "# LLM 모델 생성\n",
    "llm = ChatOpenAI(model=\"gpt-4o\", temperature=0)\n",
    "\n",
    "# 프롬프트와 LLM 모델을 사용하여 체인 생성\n",
    "chain = prompt | llm | StrOutputParser() | RunnableLambda(print_and_execute)\n",
    "\n",
    "print(chain.invoke(\"로또 번호 생성기를 출력하는 코드를 작성하세요.\"))"
   ],
   "id": "bc423d607c75ecf6",
   "outputs": [
    {
     "name": "stdout",
     "output_type": "stream",
     "text": [
      "CODE:\n",
      "import random\n",
      "\n",
      "def generate_lotto_numbers():\n",
      "    return sorted(random.sample(range(1, 46), 6))\n",
      "\n",
      "print(generate_lotto_numbers())\n",
      "[7, 19, 22, 35, 36, 39]\n",
      "\n"
     ]
    }
   ],
   "execution_count": 6
  },
  {
   "metadata": {},
   "cell_type": "markdown",
   "source": [
    "### TavilySearchResults\n",
    "\n",
    "**설명**\n",
    "- Tavily 검색 API를 쿼리하고 JSON 형식의 결과를 반환합니다.\n",
    "- 포괄적이고 정확하며 신뢰할 수 있는 결과에 최적화된 검색 엔진입니다.\n",
    "- 현재 이벤트에 대한 질문에 답변할 때 유용합니다.\n",
    "\n",
    "**주요 매개변수**\n",
    "- max_results (int): 반환할 최대 검색 결과 수 (기본값: 5)\n",
    "- search_depth (str): 검색 깊이 (\"basic\" 또는 \"advanced\")\n",
    "- include_domains (List[str]): 검색 결과에 포함할 도메인 목록\n",
    "- exclude_domains (List[str]): 검색 결과에서 제외할 도메인 목록\n",
    "- include_answer (bool): 원본 쿼리에 대한 짧은 답변 포함 여부\n",
    "- include_raw_content (bool): 각 사이트의 정제된 HTML 콘텐츠 포함 여부\n",
    "- include_images (bool): 쿼리 관련 이미지 목록 포함 여부"
   ],
   "id": "d418539b4fb4ced5"
  },
  {
   "metadata": {
    "ExecuteTime": {
     "end_time": "2025-01-06T07:09:09.826782Z",
     "start_time": "2025-01-06T07:08:51.837420Z"
    }
   },
   "cell_type": "code",
   "source": [
    "from langchain_community.tools.tavily_search import TavilySearchResults\n",
    "\n",
    "# 도구 생성\n",
    "tool = TavilySearchResults(\n",
    "    max_results=6,\n",
    "    include_answer=True,\n",
    "    include_raw_content=True,\n",
    "    # include_images=True,\n",
    "    # search_depth=\"advanced\", # or \"basic\"\n",
    "    include_domains=[\"github.io\", \"naver.com\"],\n",
    "    exclude_domains = [\"google.com\"]\n",
    ")\n",
    "\n",
    "tool.invoke({\"query\": \"LangChain Tools 에 대해서 알려주세요\"})"
   ],
   "id": "5350082af6fb786c",
   "outputs": [
    {
     "data": {
      "text/plain": [
       "[{'url': 'https://post.naver.com/viewer/postView.naver?volumeNo=37460860&vType=VERTICAL',\n",
       "  'content': '랭체인 (LangChain) 은 언어 모델 기반의 애플리케이션을 개발하는 프레임워크입니다. 랭체인을 사용해 챗봇 또는 개인 비서를 만들고 , 문서 또는 구조화된 데이터에 대한 Q&A 를 요약 , 분석 , 생성하고 , 코드를 쓰거나 이해하고 , API 와 상호작용하고 , 생성형 AI 를'},\n",
       " {'url': 'https://post.naver.com/viewer/postView.naver?volumeNo=38409843&vType=VERTICAL',\n",
       "  'content': 'LangChain 을 통해 개발자는 더 복잡한 사용 사례를 처리할 수 있는 애플리케이션을 손쉽게 구축할 수 있습니다. LangChain 은 오픈소스 프로젝트로서, 전 세계 개발자들이 참여하고 기여하는 커뮤니티에 의해 지속적으로 발전하고 있습니다.'},\n",
       " {'url': 'https://blog.naver.com/PostView.naver?blogId=beyond-zero&logNo=223386007783',\n",
       "  'content': 'ChatGPT와 같은 언어 모델은 매우 다재다능하지만 비즈니스 현장에서 그대로 사용할 수 있는 4가지 제한사항이 있다. 이런 4가지 제한 사항을 LangChain을 사용하면 해결할 수 있다. LangChain: 사내의 높은 보안수준에 대응한 인프라인 환경에서 애플리케이션을 실행할 수 있다. LangChain: ChatGPT의 공식 서비스에 없는 임의의 사용자지정 기능을 추가할 수 있다. 또한, Chains를 사용하여 프롬프트 출력을 결합할 수 있다. 예를 들어, A와 B의 두 프롬프트 출력을 사용하여 프롬프트를 실행할 수 있다. 이 기능을 사용하면 모델이 복잡한 작업을 자동으로 처리할 수 있다. 즉, 이 기능을 사용하면 개발자가 애플리케이션의 동작을 보다 세밀하게 제어하고 관리할 수 있다. 이 3가지 패키지는 \"pip install langchain\"으로 설치할 수 있다. LangChain의 Agents를 사용하면 제공된 도구를 사용하여 자동으로 작업을 완료하는 자율적인 에이전트를 구축할 수 있다. 이와 같이 LangChain을 사용하면 다양한 비즈니스 요구에 맞게 개발을 효율화릃 할 수 있다.'},\n",
       " {'url': 'https://m.blog.naver.com/weisoon/223196954589',\n",
       "  'content': '랭체인(LangChain) 이용한 AI 웹서비스 만들기, 조코딩 따라하기 3, 인공지능 시인 코딩 및 Streamlit 배포하기 ... 에 연결된 소스를 기반으로 배포를 하기 때문에 깃허브 아이디도 필요하다. 그래서 깃허브에서 회원가입을 먼저 하고 그리고 스트림릿에도 가입하면'},\n",
       " {'url': 'https://blog.naver.com/PostView.naver?blogId=tester222&logNo=223554405727',\n",
       "  'content': 'LangChain Use cases. Conversational AI Applications. Text Summarization. Question Answering. Knowledge Base Search. Workflow Automation LangChain Pros and Cons. Pros. Simplified Integration. 다양한 LLMs, Tools, 등등 통합 운용 가능. Modularity and Extensibility. 모듈성, 확장성 덕분에 필요한 components를 골라서 사용'},\n",
       " {'url': 'https://m.blog.naver.com/ilovehandson/223124167133',\n",
       "  'content': 'LangChain 프레임워크 가 제공하는 두 가지 주요 가치 소품이 있습니다: 컴포넌트(Components): LangChain은 언어 모델과 함께 작동하는데 필요한 컴포넌트에 대한 모듈식 추상화 를 제공 합니다. 또한 LangChain에는 이러한 모든 추상화에 대한 구현 모 음 도 있습니다.'}]"
      ]
     },
     "execution_count": 8,
     "metadata": {},
     "output_type": "execute_result"
    }
   ],
   "execution_count": 8
  },
  {
   "metadata": {},
   "cell_type": "markdown",
   "source": [
    "## 사용자 정의 도구(Custom Tool)\n",
    "\n",
    "LangChain 에서 제공하는 빌트인 도구 외에도 사용자가 직접 도구를 정의하여 사용할 수 있습니다. 이를 위해서는 langchain.tools 모듈에서 제공하는 tool 데코레이터를 사용하여 함수를 도구로 변환합니다."
   ],
   "id": "48f3e10f3a97fa56"
  },
  {
   "metadata": {},
   "cell_type": "markdown",
   "source": [
    "### @tool 데코레이터\n",
    "\n",
    "이 데코레이터는 함수를 도구로 변환하는 기능을 제공합니다. 다양한 옵션을 통해 도구의 동작을 커스터마이즈할 수 있습니다.\n",
    "\n",
    "***사용 방법**\n",
    "\n",
    "함수 위에 @tool 데코레이터 적용\n",
    "\n",
    "필요에 따라 데코레이터 매개변수 설정"
   ],
   "id": "b2c427241fc74e2b"
  },
  {
   "metadata": {
    "ExecuteTime": {
     "end_time": "2025-01-06T07:13:00.179774Z",
     "start_time": "2025-01-06T07:13:00.160230Z"
    }
   },
   "cell_type": "code",
   "source": [
    "from langchain.tools import tool\n",
    "\n",
    "@tool\n",
    "def add_numbers(a: int, b: int) -> int:\n",
    "    \"\"\"Add two Numbers\"\"\"\n",
    "    return a + b\n",
    "\n",
    "@tool\n",
    "def multiply_numbers(a: int, b: int) -> int:\n",
    "    \"\"\"Multiply two numbers\"\"\"\n",
    "    return a * b\n",
    "\n",
    "# 도구 실행\n",
    "add_numbers.invoke({\"a\": 3, \"b\": 4})\n",
    "\n",
    "# 도구 실행\n",
    "multiply_numbers.invoke({\"a\": 3, \"b\": 4})"
   ],
   "id": "b95cab0070ee05f",
   "outputs": [
    {
     "data": {
      "text/plain": [
       "12"
      ]
     },
     "execution_count": 10,
     "metadata": {},
     "output_type": "execute_result"
    }
   ],
   "execution_count": 10
  }
 ],
 "metadata": {
  "kernelspec": {
   "display_name": "Python 3",
   "language": "python",
   "name": "python3"
  },
  "language_info": {
   "codemirror_mode": {
    "name": "ipython",
    "version": 2
   },
   "file_extension": ".py",
   "mimetype": "text/x-python",
   "name": "python",
   "nbconvert_exporter": "python",
   "pygments_lexer": "ipython2",
   "version": "2.7.6"
  }
 },
 "nbformat": 4,
 "nbformat_minor": 5
}
